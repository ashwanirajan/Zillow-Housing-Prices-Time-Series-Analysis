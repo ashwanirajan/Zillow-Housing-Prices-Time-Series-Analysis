{
 "cells": [
  {
   "cell_type": "code",
   "execution_count": 1,
   "id": "dc2c1192",
   "metadata": {
    "ExecuteTime": {
     "end_time": "2021-12-08T03:39:17.933578Z",
     "start_time": "2021-12-08T03:39:16.679335Z"
    }
   },
   "outputs": [],
   "source": [
    "import matplotlib.pyplot as plt\n",
    "import numpy as np\n",
    "import pandas as pd\n",
    "import statsmodels.api as sm\n",
    "from pandas import read_csv\n",
    "from pmdarima.arima import auto_arima\n",
    "import datetime\n",
    "from matplotlib import pyplot\n",
    "from sklearn.preprocessing import MinMaxScaler\n",
    "from statsmodels.graphics.tsaplots import plot_acf\n",
    "from statsmodels.graphics.tsaplots import plot_pacf\n",
    "from statsmodels.tsa.stattools import adfuller\n",
    "from statsmodels.tsa.arima.model import ARIMA\n",
    "from statsmodels.tsa.arima_model import ARMA\n",
    "import sklearn.metrics as skmetrics\n",
    "import warnings\n",
    "from statsmodels.tsa.stattools import arma_order_select_ic\n",
    "from tqdm import tqdm #A tqdm progress bar shows you how much time has elapsed and the estimated time remaining for the iterable\n",
    "import pmdarima as pm\n",
    "\n",
    "from sklearn.metrics import mean_absolute_percentage_error\n",
    "import warnings\n",
    "warnings.filterwarnings(\"ignore\")"
   ]
  },
  {
   "cell_type": "markdown",
   "id": "9ea6bf81",
   "metadata": {
    "ExecuteTime": {
     "end_time": "2021-12-03T09:32:32.499456Z",
     "start_time": "2021-12-03T09:32:32.496903Z"
    }
   },
   "source": [
    "## data reading"
   ]
  },
  {
   "cell_type": "code",
   "execution_count": 2,
   "id": "51f22220",
   "metadata": {
    "ExecuteTime": {
     "end_time": "2021-12-08T03:39:17.951760Z",
     "start_time": "2021-12-08T03:39:17.934665Z"
    }
   },
   "outputs": [
    {
     "data": {
      "text/plain": [
       "(107, 4)"
      ]
     },
     "execution_count": 2,
     "metadata": {},
     "output_type": "execute_result"
    }
   ],
   "source": [
    "data_raw = pd.read_csv('zillow-carlifornia.csv')\n",
    "data_raw.columns = ['Date', 'MedianSoldPrice', 'MedianMortageRate',\n",
    "       'UnemploymentRate']\n",
    "data_raw['Date'] = pd.to_datetime(data_raw['Date'])\n",
    "data_raw.shape"
   ]
  },
  {
   "cell_type": "code",
   "execution_count": 3,
   "id": "387c4fe3",
   "metadata": {
    "ExecuteTime": {
     "end_time": "2021-12-08T03:39:17.964625Z",
     "start_time": "2021-12-08T03:39:17.953032Z"
    }
   },
   "outputs": [
    {
     "name": "stdout",
     "output_type": "stream",
     "text": [
      "<class 'pandas.core.frame.DataFrame'>\n",
      "RangeIndex: 107 entries, 0 to 106\n",
      "Data columns (total 4 columns):\n",
      " #   Column             Non-Null Count  Dtype         \n",
      "---  ------             --------------  -----         \n",
      " 0   Date               107 non-null    datetime64[ns]\n",
      " 1   MedianSoldPrice    95 non-null     float64       \n",
      " 2   MedianMortageRate  107 non-null    float64       \n",
      " 3   UnemploymentRate   107 non-null    float64       \n",
      "dtypes: datetime64[ns](1), float64(3)\n",
      "memory usage: 3.5 KB\n"
     ]
    }
   ],
   "source": [
    "data_raw.info()"
   ]
  },
  {
   "cell_type": "code",
   "execution_count": 4,
   "id": "d628b535",
   "metadata": {
    "ExecuteTime": {
     "end_time": "2021-12-08T03:39:18.184056Z",
     "start_time": "2021-12-08T03:39:18.171999Z"
    }
   },
   "outputs": [],
   "source": [
    "data = data_raw.loc[~data_raw['MedianSoldPrice'].isna(),:]\n",
    "data_test = data_raw.loc[data_raw['MedianSoldPrice'].isna(),:]"
   ]
  },
  {
   "cell_type": "code",
   "execution_count": 5,
   "id": "34ae9f7c",
   "metadata": {
    "ExecuteTime": {
     "end_time": "2021-12-08T03:39:18.444632Z",
     "start_time": "2021-12-08T03:39:18.422635Z"
    }
   },
   "outputs": [
    {
     "data": {
      "text/html": [
       "<div>\n",
       "<style scoped>\n",
       "    .dataframe tbody tr th:only-of-type {\n",
       "        vertical-align: middle;\n",
       "    }\n",
       "\n",
       "    .dataframe tbody tr th {\n",
       "        vertical-align: top;\n",
       "    }\n",
       "\n",
       "    .dataframe thead th {\n",
       "        text-align: right;\n",
       "    }\n",
       "</style>\n",
       "<table border=\"1\" class=\"dataframe\">\n",
       "  <thead>\n",
       "    <tr style=\"text-align: right;\">\n",
       "      <th></th>\n",
       "      <th>Date</th>\n",
       "      <th>MedianSoldPrice</th>\n",
       "      <th>MedianMortageRate</th>\n",
       "      <th>UnemploymentRate</th>\n",
       "    </tr>\n",
       "  </thead>\n",
       "  <tbody>\n",
       "    <tr>\n",
       "      <th>95</th>\n",
       "      <td>2016-01-31</td>\n",
       "      <td>NaN</td>\n",
       "      <td>3.91</td>\n",
       "      <td>5.0</td>\n",
       "    </tr>\n",
       "    <tr>\n",
       "      <th>96</th>\n",
       "      <td>2016-02-29</td>\n",
       "      <td>NaN</td>\n",
       "      <td>3.96</td>\n",
       "      <td>4.9</td>\n",
       "    </tr>\n",
       "    <tr>\n",
       "      <th>97</th>\n",
       "      <td>2016-03-31</td>\n",
       "      <td>NaN</td>\n",
       "      <td>3.60</td>\n",
       "      <td>5.0</td>\n",
       "    </tr>\n",
       "    <tr>\n",
       "      <th>98</th>\n",
       "      <td>2016-04-30</td>\n",
       "      <td>NaN</td>\n",
       "      <td>3.60</td>\n",
       "      <td>5.0</td>\n",
       "    </tr>\n",
       "    <tr>\n",
       "      <th>99</th>\n",
       "      <td>2016-05-31</td>\n",
       "      <td>NaN</td>\n",
       "      <td>3.59</td>\n",
       "      <td>4.8</td>\n",
       "    </tr>\n",
       "    <tr>\n",
       "      <th>100</th>\n",
       "      <td>2016-06-30</td>\n",
       "      <td>NaN</td>\n",
       "      <td>3.59</td>\n",
       "      <td>4.8</td>\n",
       "    </tr>\n",
       "    <tr>\n",
       "      <th>101</th>\n",
       "      <td>2016-07-31</td>\n",
       "      <td>NaN</td>\n",
       "      <td>3.46</td>\n",
       "      <td>4.9</td>\n",
       "    </tr>\n",
       "    <tr>\n",
       "      <th>102</th>\n",
       "      <td>2016-08-31</td>\n",
       "      <td>NaN</td>\n",
       "      <td>3.46</td>\n",
       "      <td>4.8</td>\n",
       "    </tr>\n",
       "    <tr>\n",
       "      <th>103</th>\n",
       "      <td>2016-09-30</td>\n",
       "      <td>NaN</td>\n",
       "      <td>3.42</td>\n",
       "      <td>5.0</td>\n",
       "    </tr>\n",
       "    <tr>\n",
       "      <th>104</th>\n",
       "      <td>2016-10-31</td>\n",
       "      <td>NaN</td>\n",
       "      <td>3.36</td>\n",
       "      <td>5.0</td>\n",
       "    </tr>\n",
       "    <tr>\n",
       "      <th>105</th>\n",
       "      <td>2016-11-30</td>\n",
       "      <td>NaN</td>\n",
       "      <td>3.47</td>\n",
       "      <td>4.8</td>\n",
       "    </tr>\n",
       "    <tr>\n",
       "      <th>106</th>\n",
       "      <td>2016-12-31</td>\n",
       "      <td>NaN</td>\n",
       "      <td>4.07</td>\n",
       "      <td>4.7</td>\n",
       "    </tr>\n",
       "  </tbody>\n",
       "</table>\n",
       "</div>"
      ],
      "text/plain": [
       "          Date  MedianSoldPrice  MedianMortageRate  UnemploymentRate\n",
       "95  2016-01-31              NaN               3.91               5.0\n",
       "96  2016-02-29              NaN               3.96               4.9\n",
       "97  2016-03-31              NaN               3.60               5.0\n",
       "98  2016-04-30              NaN               3.60               5.0\n",
       "99  2016-05-31              NaN               3.59               4.8\n",
       "100 2016-06-30              NaN               3.59               4.8\n",
       "101 2016-07-31              NaN               3.46               4.9\n",
       "102 2016-08-31              NaN               3.46               4.8\n",
       "103 2016-09-30              NaN               3.42               5.0\n",
       "104 2016-10-31              NaN               3.36               5.0\n",
       "105 2016-11-30              NaN               3.47               4.8\n",
       "106 2016-12-31              NaN               4.07               4.7"
      ]
     },
     "execution_count": 5,
     "metadata": {},
     "output_type": "execute_result"
    }
   ],
   "source": [
    "data_test"
   ]
  },
  {
   "cell_type": "code",
   "execution_count": 6,
   "id": "553bb6c9",
   "metadata": {
    "ExecuteTime": {
     "end_time": "2021-12-08T03:39:18.722323Z",
     "start_time": "2021-12-08T03:39:18.702317Z"
    }
   },
   "outputs": [
    {
     "name": "stdout",
     "output_type": "stream",
     "text": [
      "<class 'pandas.core.frame.DataFrame'>\n",
      "Int64Index: 12 entries, 95 to 106\n",
      "Data columns (total 4 columns):\n",
      " #   Column             Non-Null Count  Dtype         \n",
      "---  ------             --------------  -----         \n",
      " 0   Date               12 non-null     datetime64[ns]\n",
      " 1   MedianSoldPrice    0 non-null      float64       \n",
      " 2   MedianMortageRate  12 non-null     float64       \n",
      " 3   UnemploymentRate   12 non-null     float64       \n",
      "dtypes: datetime64[ns](1), float64(3)\n",
      "memory usage: 480.0 bytes\n"
     ]
    }
   ],
   "source": [
    "data_test.info()"
   ]
  },
  {
   "cell_type": "code",
   "execution_count": 7,
   "id": "ace08427",
   "metadata": {
    "ExecuteTime": {
     "end_time": "2021-12-08T03:39:19.029782Z",
     "start_time": "2021-12-08T03:39:19.023706Z"
    }
   },
   "outputs": [
    {
     "data": {
      "text/plain": [
       "(95, 4)"
      ]
     },
     "execution_count": 7,
     "metadata": {},
     "output_type": "execute_result"
    }
   ],
   "source": [
    "data.shape"
   ]
  },
  {
   "cell_type": "code",
   "execution_count": 8,
   "id": "ac6c4e16",
   "metadata": {
    "ExecuteTime": {
     "end_time": "2021-12-08T03:39:19.250111Z",
     "start_time": "2021-12-08T03:39:19.226205Z"
    }
   },
   "outputs": [
    {
     "name": "stdout",
     "output_type": "stream",
     "text": [
      "Data Collection Frequency = 30 days 10:43:24.255319149\n"
     ]
    }
   ],
   "source": [
    "print(f'Data Collection Frequency = {np.mean([data.Date[i+1] - data.Date[i] for i in range(len(data)-1)])}')"
   ]
  },
  {
   "cell_type": "markdown",
   "id": "dda4fdc8",
   "metadata": {
    "ExecuteTime": {
     "end_time": "2021-12-03T09:32:15.096327Z",
     "start_time": "2021-12-03T09:32:15.093497Z"
    }
   },
   "source": [
    "## Initial Exploration and Plots"
   ]
  },
  {
   "cell_type": "markdown",
   "id": "caca081d",
   "metadata": {},
   "source": [
    "#### Time series Plot, ACF Plot, PACF Plot and ADF Test"
   ]
  },
  {
   "cell_type": "code",
   "execution_count": 9,
   "id": "7c53002b",
   "metadata": {
    "ExecuteTime": {
     "end_time": "2021-12-08T03:39:29.299587Z",
     "start_time": "2021-12-08T03:39:28.964467Z"
    },
    "scrolled": true
   },
   "outputs": [
    {
     "data": {
      "image/png": "[encoded data removed]",
      "text/plain": [
       "<Figure size 1296x432 with 1 Axes>"
      ]
     },
     "metadata": {
      "needs_background": "light"
     },
     "output_type": "display_data"
    },
    {
     "data": {
      "image/png": "[encoded data removed]",
      "text/plain": [
       "<Figure size 432x288 with 1 Axes>"
      ]
     },
     "metadata": {
      "needs_background": "light"
     },
     "output_type": "display_data"
    },
    {
     "data": {
      "image/png": "[encoded data removed]",
      "text/plain": [
       "<Figure size 432x288 with 1 Axes>"
      ]
     },
     "metadata": {
      "needs_background": "light"
     },
     "output_type": "display_data"
    },
    {
     "name": "stdout",
     "output_type": "stream",
     "text": [
      "Test Statistic   -0.058792\n",
      "p-value           0.953391\n",
      "dtype: float64\n"
     ]
    }
   ],
   "source": [
    "fig = plt.figure(figsize=(18, 6))\n",
    "ax = fig.add_subplot(111)\n",
    "ax.plot(data.MedianSoldPrice)\n",
    "plt.show()\n",
    "plot_acf(data.MedianSoldPrice,lags=90) \n",
    "plt.show()\n",
    "plot_pacf(data.MedianSoldPrice,lags=35) \n",
    "plt.show()\n",
    "\n",
    "dftest = adfuller(data.MedianSoldPrice)\n",
    "dfoutput = pd.Series(dftest[0:2], index=['Test Statistic','p-value'])\n",
    "print (dfoutput)"
   ]
  },
  {
   "cell_type": "markdown",
   "id": "982b196c",
   "metadata": {
    "ExecuteTime": {
     "end_time": "2021-12-03T09:51:32.606071Z",
     "start_time": "2021-12-03T09:51:32.603111Z"
    }
   },
   "source": [
    "### p-value is not less than significant value, so not stationary, needs differencing. No seasonality can be seen. However a seasonality of 12 is assumed for housing prices"
   ]
  },
  {
   "cell_type": "markdown",
   "id": "5cd6b893",
   "metadata": {
    "ExecuteTime": {
     "end_time": "2021-12-03T10:06:42.794294Z",
     "start_time": "2021-12-03T10:06:42.791169Z"
    }
   },
   "source": [
    "# Univariate"
   ]
  },
  {
   "cell_type": "markdown",
   "id": "76814402",
   "metadata": {
    "ExecuteTime": {
     "end_time": "2021-12-06T06:47:06.781035Z",
     "start_time": "2021-12-06T06:47:06.778275Z"
    }
   },
   "source": [
    "### Case 1: Only trend no seasonality"
   ]
  },
  {
   "cell_type": "markdown",
   "id": "90d262ee",
   "metadata": {
    "ExecuteTime": {
     "end_time": "2021-12-06T06:48:37.263391Z",
     "start_time": "2021-12-06T06:48:37.255224Z"
    }
   },
   "source": [
    "### Candidate 1: Model from Intuition : ARIMA(0,1,1)(0,0,0,0)"
   ]
  },
  {
   "cell_type": "markdown",
   "id": "0aae1077",
   "metadata": {
    "ExecuteTime": {
     "end_time": "2021-12-03T09:54:47.879738Z",
     "start_time": "2021-12-03T09:54:47.876730Z"
    }
   },
   "source": [
    "#### Differencing"
   ]
  },
  {
   "cell_type": "code",
   "execution_count": 10,
   "id": "23eb453f",
   "metadata": {
    "ExecuteTime": {
     "end_time": "2021-12-08T03:39:36.600301Z",
     "start_time": "2021-12-08T03:39:36.594549Z"
    }
   },
   "outputs": [],
   "source": [
    "def diff(data, interval=1):\n",
    "    diff = list()\n",
    "    for i in range(interval, len(data)):\n",
    "        value = data[i] - data[i - interval]\n",
    "        diff.append(value)\n",
    "    return diff"
   ]
  },
  {
   "cell_type": "code",
   "execution_count": 11,
   "id": "1d091c05",
   "metadata": {
    "ExecuteTime": {
     "end_time": "2021-12-08T03:39:37.137895Z",
     "start_time": "2021-12-08T03:39:36.883400Z"
    },
    "scrolled": true
   },
   "outputs": [
    {
     "data": {
      "image/png": "[encoded data removed]",
      "text/plain": [
       "<Figure size 432x288 with 1 Axes>"
      ]
     },
     "metadata": {
      "needs_background": "light"
     },
     "output_type": "display_data"
    },
    {
     "data": {
      "image/png": "[encoded data removed]",
      "text/plain": [
       "<Figure size 432x288 with 1 Axes>"
      ]
     },
     "metadata": {
      "needs_background": "light"
     },
     "output_type": "display_data"
    },
    {
     "data": {
      "image/png": "[encoded data removed]",
      "text/plain": [
       "<Figure size 432x288 with 1 Axes>"
      ]
     },
     "metadata": {
      "needs_background": "light"
     },
     "output_type": "display_data"
    },
    {
     "name": "stdout",
     "output_type": "stream",
     "text": [
      "Test Statistic   -3.088139\n",
      "p-value           0.027443\n",
      "dtype: float64\n"
     ]
    }
   ],
   "source": [
    "d1 = diff(data.MedianSoldPrice, 1)\n",
    "plt.plot(d1)\n",
    "plot_acf(d1,lags=38) \n",
    "plt.show()\n",
    "plot_pacf(d1,lags=20) \n",
    "plt.show()\n",
    "\n",
    "dftest = adfuller(d1)\n",
    "dfoutput = pd.Series(dftest[0:2], index=['Test Statistic','p-value'])\n",
    "print (dfoutput)"
   ]
  },
  {
   "cell_type": "markdown",
   "id": "81ab441c",
   "metadata": {
    "ExecuteTime": {
     "end_time": "2021-12-06T06:52:36.668797Z",
     "start_time": "2021-12-06T06:52:36.666179Z"
    }
   },
   "source": [
    "#### model_1_1 = ARIMA(0,1,0)(0,0,0)[0]"
   ]
  },
  {
   "cell_type": "markdown",
   "id": "ad52b73f",
   "metadata": {
    "ExecuteTime": {
     "end_time": "2021-12-06T06:49:45.121340Z",
     "start_time": "2021-12-06T06:49:45.116860Z"
    }
   },
   "source": [
    "### Candidate 2: From AIC"
   ]
  },
  {
   "cell_type": "code",
   "execution_count": 12,
   "id": "f0dab1fb",
   "metadata": {
    "ExecuteTime": {
     "end_time": "2021-12-08T03:39:39.863702Z",
     "start_time": "2021-12-08T03:39:37.894446Z"
    },
    "scrolled": true
   },
   "outputs": [
    {
     "name": "stdout",
     "output_type": "stream",
     "text": [
      "Performing stepwise search to minimize aic\n",
      " ARIMA(0,1,0)(0,0,0)[0] intercept   : AIC=2028.877, Time=1.47 sec\n",
      " ARIMA(1,1,0)(0,0,0)[0] intercept   : AIC=2022.609, Time=0.03 sec\n",
      " ARIMA(0,1,1)(0,0,0)[0] intercept   : AIC=2023.514, Time=0.01 sec\n",
      " ARIMA(0,1,0)(0,0,0)[0]             : AIC=2026.900, Time=0.00 sec\n",
      " ARIMA(2,1,0)(0,0,0)[0] intercept   : AIC=2022.030, Time=0.02 sec\n",
      " ARIMA(3,1,0)(0,0,0)[0] intercept   : AIC=2020.308, Time=0.02 sec\n",
      " ARIMA(4,1,0)(0,0,0)[0] intercept   : AIC=2022.280, Time=0.02 sec\n",
      " ARIMA(3,1,1)(0,0,0)[0] intercept   : AIC=2021.942, Time=0.05 sec\n",
      " ARIMA(2,1,1)(0,0,0)[0] intercept   : AIC=2020.552, Time=0.03 sec\n",
      " ARIMA(4,1,1)(0,0,0)[0] intercept   : AIC=2023.297, Time=0.10 sec\n",
      " ARIMA(3,1,0)(0,0,0)[0]             : AIC=2018.530, Time=0.01 sec\n",
      " ARIMA(2,1,0)(0,0,0)[0]             : AIC=2020.104, Time=0.01 sec\n",
      " ARIMA(4,1,0)(0,0,0)[0]             : AIC=2020.484, Time=0.02 sec\n",
      " ARIMA(3,1,1)(0,0,0)[0]             : AIC=2020.121, Time=0.04 sec\n",
      " ARIMA(2,1,1)(0,0,0)[0]             : AIC=2018.655, Time=0.03 sec\n",
      " ARIMA(4,1,1)(0,0,0)[0]             : AIC=2021.424, Time=0.09 sec\n",
      "\n",
      "Best model:  ARIMA(3,1,0)(0,0,0)[0]          \n",
      "Total fit time: 1.956 seconds\n",
      "                               SARIMAX Results                                \n",
      "==============================================================================\n",
      "Dep. Variable:                      y   No. Observations:                   95\n",
      "Model:               SARIMAX(3, 1, 0)   Log Likelihood               -1005.265\n",
      "Date:                Tue, 07 Dec 2021   AIC                           2018.530\n",
      "Time:                        19:39:39   BIC                           2028.704\n",
      "Sample:                             0   HQIC                          2022.640\n",
      "                                 - 95                                         \n",
      "Covariance Type:                  opg                                         \n",
      "==============================================================================\n",
      "                 coef    std err          z      P>|z|      [0.025      0.975]\n",
      "------------------------------------------------------------------------------\n",
      "ar.L1         -0.0592      0.090     -0.654      0.513      -0.237       0.118\n",
      "ar.L2          0.0326      0.071      0.461      0.645      -0.106       0.171\n",
      "ar.L3         -0.0449      0.027     -1.658      0.097      -0.098       0.008\n",
      "sigma2      1.039e+08   1.24e-10   8.35e+17      0.000    1.04e+08    1.04e+08\n",
      "===================================================================================\n",
      "Ljung-Box (L1) (Q):                   0.01   Jarque-Bera (JB):                 2.82\n",
      "Prob(Q):                              0.94   Prob(JB):                         0.24\n",
      "Heteroskedasticity (H):               0.67   Skew:                            -0.28\n",
      "Prob(H) (two-sided):                  0.27   Kurtosis:                         3.64\n",
      "===================================================================================\n",
      "\n",
      "Warnings:\n",
      "[1] Covariance matrix calculated using the outer product of gradients (complex-step).\n",
      "[2] Covariance matrix is singular or near-singular, with condition number 1.85e+33. Standard errors may be unstable.\n"
     ]
    }
   ],
   "source": [
    "model_1_2 = pm.auto_arima(data.MedianSoldPrice, start_p=0, start_q=0,\n",
    "                      test='adf',       # use adftest to find optimal 'd'\n",
    "                      max_p=7, max_q=7, # maximum p and q\n",
    "                      m=12,              # seasonal is set to False\n",
    "                      max_d=2,           # let model determine 'd'\n",
    "                      seasonal=False,   \n",
    "                      start_P=0, start_Q=0,\n",
    "                      max_P=0, max_Q=0,\n",
    "                      D=0, \n",
    "                      trace=True,\n",
    "                      error_action='ignore',  \n",
    "                      suppress_warnings=True, \n",
    "                      stepwise=True)\n",
    "\n",
    "print(model_1_2.summary())"
   ]
  },
  {
   "cell_type": "markdown",
   "id": "7c904008",
   "metadata": {
    "ExecuteTime": {
     "end_time": "2021-12-06T06:51:09.574469Z",
     "start_time": "2021-12-06T06:51:09.571844Z"
    }
   },
   "source": [
    "#### model_1_2 = ARIMA(3,1,0)(0,0,0)[0]"
   ]
  },
  {
   "cell_type": "markdown",
   "id": "79a7b21e",
   "metadata": {
    "ExecuteTime": {
     "end_time": "2021-12-06T06:51:30.359922Z",
     "start_time": "2021-12-06T06:51:30.357117Z"
    }
   },
   "source": [
    "### Candidate 3: From BIC"
   ]
  },
  {
   "cell_type": "code",
   "execution_count": 13,
   "id": "a9a5a6f2",
   "metadata": {
    "ExecuteTime": {
     "end_time": "2021-12-08T03:39:39.867933Z",
     "start_time": "2021-12-08T03:39:39.864703Z"
    }
   },
   "outputs": [],
   "source": [
    "def bic_sarima(data, p_values,d_values,q_values,P_values,Q_values,m,D=1):\n",
    "    best_score, best_order, best_seasonal_order = float(\"inf\"), None, None\n",
    "    for p in tqdm(p_values):\n",
    "        for d in d_values:\n",
    "            for q in q_values:\n",
    "                    for P in P_values:\n",
    "                            for Q in Q_values:\n",
    "                                order=(p,d,q)\n",
    "                                seasonal_order=(P,D,Q,m)\n",
    "                                try:\n",
    "                                    res = sm.tsa.statespace.SARIMAX(data,order=order,seasonal_order=seasonal_order,enforce_stationarity=False,enforce_invertibility=False).fit()\n",
    "                                    bic = res.bic\n",
    "                                    if bic < best_score:\n",
    "                                        best_score, best_order, best_seasonal_order=bic, order,seasonal_order\n",
    "                                except Exception as e:\n",
    "                                    print(e)\n",
    "                                    continue\n",
    "    print((best_score, best_order, best_seasonal_order))"
   ]
  },
  {
   "cell_type": "code",
   "execution_count": 14,
   "id": "03566aba",
   "metadata": {
    "ExecuteTime": {
     "end_time": "2021-12-08T03:39:43.612402Z",
     "start_time": "2021-12-08T03:39:39.869058Z"
    }
   },
   "outputs": [
    {
     "name": "stderr",
     "output_type": "stream",
     "text": [
      "100%|██████████| 5/5 [00:03<00:00,  1.34it/s]"
     ]
    },
    {
     "name": "stdout",
     "output_type": "stream",
     "text": [
      "(1909.9109890387092, (0, 2, 4), (0, 0, 0, 0))\n"
     ]
    },
    {
     "name": "stderr",
     "output_type": "stream",
     "text": [
      "\n"
     ]
    }
   ],
   "source": [
    "bic_sarima(data.MedianSoldPrice, p_values= range(5), d_values = range(3)\n",
    "           ,q_values= range(5),P_values=[0],Q_values=[0], m=0, D=0)"
   ]
  },
  {
   "cell_type": "markdown",
   "id": "a6b69a75",
   "metadata": {
    "ExecuteTime": {
     "end_time": "2021-12-06T07:13:03.745270Z",
     "start_time": "2021-12-06T07:13:03.742542Z"
    }
   },
   "source": [
    "#### model_1_3 = ARIMA(0, 2, 4),(0, 0, 0)[0]"
   ]
  },
  {
   "cell_type": "markdown",
   "id": "dc2c025f",
   "metadata": {
    "ExecuteTime": {
     "end_time": "2021-12-06T08:40:32.015183Z",
     "start_time": "2021-12-06T08:40:32.012230Z"
    }
   },
   "source": [
    "### Best ARIMA Model Case 1"
   ]
  },
  {
   "cell_type": "code",
   "execution_count": 15,
   "id": "08f3365a",
   "metadata": {
    "ExecuteTime": {
     "end_time": "2021-12-08T03:39:43.616873Z",
     "start_time": "2021-12-08T03:39:43.613810Z"
    }
   },
   "outputs": [],
   "source": [
    "def evaluate_sarima_model(X, trend_order, seasonal_order, split):\n",
    "    train_size = int(len(X) * split)\n",
    "    train, test = X[0:train_size], X[train_size:]\n",
    "    \n",
    "    predictions = list()\n",
    "    for t in tqdm(range(len(test))):\n",
    "        model = sm.tsa.statespace.SARIMAX(X[:train_size+t], order=trend_order,seasonal_order=seasonal_order) #rolling forward for one step at each time\n",
    "        model_fit = model.fit()\n",
    "        yhat = np.asanyarray(model_fit.forecast())[0] #predict one step\n",
    "        predictions.append(yhat) #store prediction\n",
    "        # calculate out of sample error\n",
    "    predictions = np.asarray(predictions).reshape(-1,)\n",
    "    test = np.asanyarray(test).reshape(-1,)\n",
    "    #mae = skmetrics.mean_absolute_error(test, predictions)\n",
    "    rmse = np.sqrt(skmetrics.mean_squared_error(test, predictions))\n",
    "    mape = mean_absolute_percentage_error(test, predictions)\n",
    "    return rmse, mape"
   ]
  },
  {
   "cell_type": "code",
   "execution_count": 16,
   "id": "0796329d",
   "metadata": {
    "ExecuteTime": {
     "end_time": "2021-12-08T03:39:45.287528Z",
     "start_time": "2021-12-08T03:39:43.617737Z"
    }
   },
   "outputs": [
    {
     "name": "stderr",
     "output_type": "stream",
     "text": [
      "100%|██████████| 32/32 [00:00<00:00, 156.07it/s]\n",
      "100%|██████████| 32/32 [00:00<00:00, 65.90it/s]\n",
      "100%|██████████| 32/32 [00:00<00:00, 32.88it/s]\n"
     ]
    }
   ],
   "source": [
    "rmse1, mape1 = evaluate_sarima_model(data.MedianSoldPrice,(0,1,0), (0,0,0,0), 0.67) \n",
    "rmse2, mape2 = evaluate_sarima_model(data.MedianSoldPrice,(3,1,0), (0,0,0,0), 0.67)\n",
    "rmse3, mape3 = evaluate_sarima_model(data.MedianSoldPrice,(0, 2, 4), (0, 0, 0, 0), 0.67)"
   ]
  },
  {
   "cell_type": "code",
   "execution_count": 17,
   "id": "eb0b354c",
   "metadata": {
    "ExecuteTime": {
     "end_time": "2021-12-08T03:39:45.293279Z",
     "start_time": "2021-12-08T03:39:45.288361Z"
    }
   },
   "outputs": [
    {
     "data": {
      "text/html": [
       "<div>\n",
       "<style scoped>\n",
       "    .dataframe tbody tr th:only-of-type {\n",
       "        vertical-align: middle;\n",
       "    }\n",
       "\n",
       "    .dataframe tbody tr th {\n",
       "        vertical-align: top;\n",
       "    }\n",
       "\n",
       "    .dataframe thead th {\n",
       "        text-align: right;\n",
       "    }\n",
       "</style>\n",
       "<table border=\"1\" class=\"dataframe\">\n",
       "  <thead>\n",
       "    <tr style=\"text-align: right;\">\n",
       "      <th></th>\n",
       "      <th>rmse</th>\n",
       "      <th>mape</th>\n",
       "    </tr>\n",
       "  </thead>\n",
       "  <tbody>\n",
       "    <tr>\n",
       "      <th>cand1</th>\n",
       "      <td>8530.276959</td>\n",
       "      <td>0.014816</td>\n",
       "    </tr>\n",
       "    <tr>\n",
       "      <th>cand2</th>\n",
       "      <td>8658.186728</td>\n",
       "      <td>0.015044</td>\n",
       "    </tr>\n",
       "    <tr>\n",
       "      <th>cand3</th>\n",
       "      <td>11221.627693</td>\n",
       "      <td>0.020938</td>\n",
       "    </tr>\n",
       "  </tbody>\n",
       "</table>\n",
       "</div>"
      ],
      "text/plain": [
       "               rmse      mape\n",
       "cand1   8530.276959  0.014816\n",
       "cand2   8658.186728  0.015044\n",
       "cand3  11221.627693  0.020938"
      ]
     },
     "execution_count": 17,
     "metadata": {},
     "output_type": "execute_result"
    }
   ],
   "source": [
    "Case_1_results = pd.DataFrame([[rmse1,mape1],[rmse2, mape2],[rmse3 , mape3]], columns=['rmse','mape'],index=['cand1','cand2', 'cand3'])\n",
    "Case_1_results"
   ]
  },
  {
   "cell_type": "markdown",
   "id": "476df533",
   "metadata": {},
   "source": [
    "#### Best Model for this scenario based on lowest rmse score is candidate 1 ARIMA(0,1,0)(0,0,0,0)"
   ]
  },
  {
   "cell_type": "markdown",
   "id": "1bb064a4",
   "metadata": {
    "ExecuteTime": {
     "end_time": "2021-12-06T08:53:38.017718Z",
     "start_time": "2021-12-06T08:53:38.015000Z"
    }
   },
   "source": [
    "## --------------------------------------------------------------------------------------------------------------"
   ]
  },
  {
   "cell_type": "markdown",
   "id": "7edf6617",
   "metadata": {
    "ExecuteTime": {
     "end_time": "2021-12-06T08:57:38.702008Z",
     "start_time": "2021-12-06T08:57:38.699387Z"
    }
   },
   "source": [
    "### Case 2: With trend and seasonality"
   ]
  },
  {
   "cell_type": "markdown",
   "id": "a90735cc",
   "metadata": {
    "ExecuteTime": {
     "end_time": "2021-12-03T10:01:08.991919Z",
     "start_time": "2021-12-03T10:01:08.989149Z"
    }
   },
   "source": [
    "### Candidate 1: Using AIC"
   ]
  },
  {
   "cell_type": "code",
   "execution_count": 18,
   "id": "03e28467",
   "metadata": {
    "ExecuteTime": {
     "end_time": "2021-12-08T03:39:48.956569Z",
     "start_time": "2021-12-08T03:39:45.294939Z"
    }
   },
   "outputs": [
    {
     "name": "stdout",
     "output_type": "stream",
     "text": [
      "Performing stepwise search to minimize aic\n",
      " ARIMA(0,1,0)(0,0,0)[12] intercept   : AIC=2028.877, Time=0.01 sec\n",
      " ARIMA(1,1,0)(1,0,0)[12] intercept   : AIC=2023.246, Time=0.04 sec\n",
      " ARIMA(0,1,1)(0,0,1)[12] intercept   : AIC=2024.143, Time=0.03 sec\n",
      " ARIMA(0,1,0)(0,0,0)[12]             : AIC=2026.900, Time=0.00 sec\n",
      " ARIMA(1,1,0)(0,0,0)[12] intercept   : AIC=2022.609, Time=0.02 sec\n",
      " ARIMA(1,1,0)(0,0,1)[12] intercept   : AIC=2023.305, Time=0.03 sec\n",
      " ARIMA(1,1,0)(1,0,1)[12] intercept   : AIC=2023.852, Time=0.07 sec\n",
      " ARIMA(2,1,0)(0,0,0)[12] intercept   : AIC=2022.030, Time=0.02 sec\n",
      " ARIMA(2,1,0)(1,0,0)[12] intercept   : AIC=2022.601, Time=0.04 sec\n",
      " ARIMA(2,1,0)(0,0,1)[12] intercept   : AIC=2022.668, Time=0.03 sec\n",
      " ARIMA(2,1,0)(1,0,1)[12] intercept   : AIC=2022.696, Time=0.05 sec\n",
      " ARIMA(3,1,0)(0,0,0)[12] intercept   : AIC=2020.308, Time=0.01 sec\n",
      " ARIMA(3,1,0)(1,0,0)[12] intercept   : AIC=2020.533, Time=0.05 sec\n",
      " ARIMA(3,1,0)(0,0,1)[12] intercept   : AIC=2020.613, Time=0.04 sec\n",
      " ARIMA(3,1,0)(1,0,1)[12] intercept   : AIC=2021.009, Time=0.10 sec\n",
      " ARIMA(4,1,0)(0,0,0)[12] intercept   : AIC=2022.280, Time=0.02 sec\n",
      " ARIMA(3,1,1)(0,0,0)[12] intercept   : AIC=2021.942, Time=0.05 sec\n",
      " ARIMA(2,1,1)(0,0,0)[12] intercept   : AIC=2020.552, Time=0.04 sec\n",
      " ARIMA(4,1,1)(0,0,0)[12] intercept   : AIC=2023.297, Time=0.10 sec\n",
      " ARIMA(3,1,0)(0,0,0)[12]             : AIC=2018.530, Time=0.01 sec\n",
      " ARIMA(3,1,0)(1,0,0)[12]             : AIC=2018.575, Time=0.04 sec\n",
      " ARIMA(3,1,0)(0,0,1)[12]             : AIC=2018.675, Time=0.06 sec\n",
      " ARIMA(3,1,0)(1,0,1)[12]             : AIC=2016.832, Time=0.15 sec\n",
      " ARIMA(3,1,0)(2,0,1)[12]             : AIC=2018.630, Time=0.35 sec\n",
      " ARIMA(3,1,0)(1,0,2)[12]             : AIC=2018.622, Time=0.36 sec\n",
      " ARIMA(3,1,0)(0,0,2)[12]             : AIC=2019.152, Time=0.31 sec\n",
      " ARIMA(3,1,0)(2,0,0)[12]             : AIC=2018.926, Time=0.15 sec\n",
      " ARIMA(3,1,0)(2,0,2)[12]             : AIC=2020.831, Time=0.41 sec\n",
      " ARIMA(2,1,0)(1,0,1)[12]             : AIC=2019.610, Time=0.09 sec\n",
      " ARIMA(4,1,0)(1,0,1)[12]             : AIC=2018.762, Time=0.16 sec\n",
      " ARIMA(3,1,1)(1,0,1)[12]             : AIC=2018.540, Time=0.19 sec\n",
      " ARIMA(2,1,1)(1,0,1)[12]             : AIC=2017.537, Time=0.17 sec\n",
      " ARIMA(4,1,1)(1,0,1)[12]             : AIC=2020.613, Time=0.38 sec\n",
      "\n",
      "Best model:  ARIMA(3,1,0)(1,0,1)[12]          \n",
      "Total fit time: 3.651 seconds\n",
      "                                      SARIMAX Results                                       \n",
      "============================================================================================\n",
      "Dep. Variable:                                    y   No. Observations:                   95\n",
      "Model:             SARIMAX(3, 1, 0)x(1, 0, [1], 12)   Log Likelihood               -1002.416\n",
      "Date:                              Tue, 07 Dec 2021   AIC                           2016.832\n",
      "Time:                                      19:39:48   BIC                           2032.092\n",
      "Sample:                                           0   HQIC                          2022.996\n",
      "                                               - 95                                         \n",
      "Covariance Type:                                opg                                         \n",
      "==============================================================================\n",
      "                 coef    std err          z      P>|z|      [0.025      0.975]\n",
      "------------------------------------------------------------------------------\n",
      "ar.L1         -0.0620      0.073     -0.843      0.399      -0.206       0.082\n",
      "ar.L2          0.0327      0.079      0.416      0.678      -0.121       0.187\n",
      "ar.L3         -0.0474      0.032     -1.501      0.133      -0.109       0.014\n",
      "ar.S.L12       0.7799      0.334      2.332      0.020       0.124       1.435\n",
      "ma.S.L12      -0.7491      0.343     -2.184      0.029      -1.421      -0.077\n",
      "sigma2      1.039e+08   2.33e-09   4.46e+16      0.000    1.04e+08    1.04e+08\n",
      "===================================================================================\n",
      "Ljung-Box (L1) (Q):                   0.03   Jarque-Bera (JB):                 1.37\n",
      "Prob(Q):                              0.87   Prob(JB):                         0.50\n",
      "Heteroskedasticity (H):               0.60   Skew:                            -0.16\n",
      "Prob(H) (two-sided):                  0.16   Kurtosis:                         3.49\n",
      "===================================================================================\n",
      "\n",
      "Warnings:\n",
      "[1] Covariance matrix calculated using the outer product of gradients (complex-step).\n",
      "[2] Covariance matrix is singular or near-singular, with condition number 7.5e+32. Standard errors may be unstable.\n"
     ]
    }
   ],
   "source": [
    "model_2_1 = pm.auto_arima(data.MedianSoldPrice, start_p=0, start_q=0,\n",
    "                      test='adf',       # use adftest to find optimal 'd'\n",
    "                      max_p=7, max_q=7, # maximum p and q\n",
    "                      m=12,              # seasonal is set to False\n",
    "                      max_d=2,           # let model determine 'd'\n",
    "                      seasonal=True,   \n",
    "                      start_P=0, start_Q=0,\n",
    "                      max_P=4, max_Q=4,\n",
    "                      D=0, \n",
    "                      trace=True,\n",
    "                      error_action='ignore',  \n",
    "                      suppress_warnings=True, \n",
    "                      stepwise=True)\n",
    "\n",
    "print(model_2_1.summary())"
   ]
  },
  {
   "cell_type": "markdown",
   "id": "0b597b5d",
   "metadata": {
    "ExecuteTime": {
     "end_time": "2021-12-06T08:58:45.424225Z",
     "start_time": "2021-12-06T08:58:45.421090Z"
    }
   },
   "source": [
    "#### model_2_1 = ARIMA(3,1,0)(1,0,1)[12]"
   ]
  },
  {
   "cell_type": "markdown",
   "id": "9b29bee3",
   "metadata": {
    "ExecuteTime": {
     "end_time": "2021-12-03T10:01:21.641294Z",
     "start_time": "2021-12-03T10:01:21.638608Z"
    }
   },
   "source": [
    "### Candidate 2: Using BIC"
   ]
  },
  {
   "cell_type": "code",
   "execution_count": 19,
   "id": "007fc0ce",
   "metadata": {
    "ExecuteTime": {
     "end_time": "2021-12-08T03:46:41.109965Z",
     "start_time": "2021-12-08T03:39:48.958025Z"
    }
   },
   "outputs": [
    {
     "name": "stderr",
     "output_type": "stream",
     "text": [
      "100%|██████████| 4/4 [06:52<00:00, 103.04s/it]"
     ]
    },
    {
     "name": "stdout",
     "output_type": "stream",
     "text": [
      "(23.933904279385647, (1, 2, 2), (0, 1, 2, 12))\n"
     ]
    },
    {
     "name": "stderr",
     "output_type": "stream",
     "text": [
      "\n"
     ]
    }
   ],
   "source": [
    "bic_sarima(data.MedianSoldPrice, p_values= range(4),d_values=range(3)\n",
    "           ,q_values= range(4),P_values=range(3),Q_values=range(3), m=12, D=1)"
   ]
  },
  {
   "cell_type": "code",
   "execution_count": 20,
   "id": "87bed8c6",
   "metadata": {
    "ExecuteTime": {
     "end_time": "2021-12-08T03:47:19.970749Z",
     "start_time": "2021-12-08T03:46:41.111163Z"
    }
   },
   "outputs": [
    {
     "name": "stderr",
     "output_type": "stream",
     "text": [
      "100%|██████████| 32/32 [00:04<00:00,  7.00it/s]\n",
      "100%|██████████| 32/32 [00:34<00:00,  1.07s/it]\n"
     ]
    }
   ],
   "source": [
    "rmse1,mape1 = evaluate_sarima_model(data.MedianSoldPrice,(3,1,0), (1,0,1,12), 0.67)\n",
    "rmse2,mape2 = evaluate_sarima_model(data.MedianSoldPrice,(1,2,2), (0,1,2,12), 0.67)"
   ]
  },
  {
   "cell_type": "code",
   "execution_count": 21,
   "id": "301c6ea0",
   "metadata": {
    "ExecuteTime": {
     "end_time": "2021-12-08T03:47:19.977414Z",
     "start_time": "2021-12-08T03:47:19.972207Z"
    }
   },
   "outputs": [
    {
     "data": {
      "text/html": [
       "<div>\n",
       "<style scoped>\n",
       "    .dataframe tbody tr th:only-of-type {\n",
       "        vertical-align: middle;\n",
       "    }\n",
       "\n",
       "    .dataframe tbody tr th {\n",
       "        vertical-align: top;\n",
       "    }\n",
       "\n",
       "    .dataframe thead th {\n",
       "        text-align: right;\n",
       "    }\n",
       "</style>\n",
       "<table border=\"1\" class=\"dataframe\">\n",
       "  <thead>\n",
       "    <tr style=\"text-align: right;\">\n",
       "      <th></th>\n",
       "      <th>rmse</th>\n",
       "      <th>mape</th>\n",
       "    </tr>\n",
       "  </thead>\n",
       "  <tbody>\n",
       "    <tr>\n",
       "      <th>cand1</th>\n",
       "      <td>8403.884150</td>\n",
       "      <td>0.015245</td>\n",
       "    </tr>\n",
       "    <tr>\n",
       "      <th>cand2</th>\n",
       "      <td>14037.253473</td>\n",
       "      <td>0.025920</td>\n",
       "    </tr>\n",
       "  </tbody>\n",
       "</table>\n",
       "</div>"
      ],
      "text/plain": [
       "               rmse      mape\n",
       "cand1   8403.884150  0.015245\n",
       "cand2  14037.253473  0.025920"
      ]
     },
     "execution_count": 21,
     "metadata": {},
     "output_type": "execute_result"
    }
   ],
   "source": [
    "Case_2_results = pd.DataFrame([[rmse1,mape1],[rmse2, mape2]], columns=['rmse','mape'],index=['cand1','cand2'])\n",
    "Case_2_results"
   ]
  },
  {
   "cell_type": "markdown",
   "id": "5d3cda01",
   "metadata": {},
   "source": [
    "#### Best Model for this scenario based on lowest rmse score is candidate 1 ARIMA(3,1,0)(1,0,1,12)"
   ]
  },
  {
   "cell_type": "markdown",
   "id": "199b07f7",
   "metadata": {
    "ExecuteTime": {
     "end_time": "2021-12-03T10:02:12.983616Z",
     "start_time": "2021-12-03T10:02:12.981073Z"
    }
   },
   "source": [
    "### Candidate 3 ETS Models"
   ]
  },
  {
   "cell_type": "code",
   "execution_count": 22,
   "id": "a8423470",
   "metadata": {
    "ExecuteTime": {
     "end_time": "2021-12-08T03:47:19.984724Z",
     "start_time": "2021-12-08T03:47:19.979381Z"
    }
   },
   "outputs": [],
   "source": [
    "# define evaluation metrics for model selection based on one-step forward cross validation\n",
    "def mean_absolute_percentage_error(test, pred):\n",
    "    return np.mean(np.abs(test-pred)/test)\n",
    "\n",
    "def evaluate_ets_model(X, trend, seasonality, split, period):\n",
    "    train_size = int(len(X) * split)\n",
    "    train, test = X[0:train_size], X[train_size:]\n",
    "    \n",
    "    predictions = list()\n",
    "    for t in tqdm(range(len(test))):\n",
    "        model = ExponentialSmoothing(X[:train_size+t], trend=i, seasonal=j, seasonal_periods=period, \n",
    "                                     damped = False if i==None else True)\n",
    "        model_fit = model.fit()\n",
    "        yhat = np.asanyarray(model_fit.forecast())[0] #predict one step\n",
    "        predictions.append(yhat) #store prediction\n",
    "    predictions = np.asarray(predictions).reshape(-1,)\n",
    "    test = np.asanyarray(test).reshape(-1,)\n",
    "    try:\n",
    "        rmse = np.sqrt(skmetrics.mean_squared_error(test, predictions))\n",
    "        \n",
    "    except ValueError:\n",
    "        rmse = 0\n",
    "    mape = mean_absolute_percentage_error(test, predictions)\n",
    "    return rmse, mape"
   ]
  },
  {
   "cell_type": "code",
   "execution_count": 23,
   "id": "d65f2151",
   "metadata": {
    "ExecuteTime": {
     "end_time": "2021-12-08T03:47:32.116974Z",
     "start_time": "2021-12-08T03:47:19.986339Z"
    }
   },
   "outputs": [
    {
     "name": "stderr",
     "output_type": "stream",
     "text": [
      "  6%|▋         | 2/32 [00:00<00:02, 12.61it/s]"
     ]
    },
    {
     "name": "stdout",
     "output_type": "stream",
     "text": [
      "add_add\n"
     ]
    },
    {
     "name": "stderr",
     "output_type": "stream",
     "text": [
      "100%|██████████| 32/32 [00:02<00:00, 14.72it/s]\n",
      "  6%|▋         | 2/32 [00:00<00:01, 15.52it/s]"
     ]
    },
    {
     "name": "stdout",
     "output_type": "stream",
     "text": [
      "add_mul\n"
     ]
    },
    {
     "name": "stderr",
     "output_type": "stream",
     "text": [
      "100%|██████████| 32/32 [00:02<00:00, 15.22it/s]\n",
      " 31%|███▏      | 10/32 [00:00<00:00, 91.59it/s]"
     ]
    },
    {
     "name": "stdout",
     "output_type": "stream",
     "text": [
      "add_None\n"
     ]
    },
    {
     "name": "stderr",
     "output_type": "stream",
     "text": [
      "100%|██████████| 32/32 [00:00<00:00, 88.28it/s]\n",
      "  6%|▋         | 2/32 [00:00<00:02, 10.79it/s]"
     ]
    },
    {
     "name": "stdout",
     "output_type": "stream",
     "text": [
      "mul_add\n"
     ]
    },
    {
     "name": "stderr",
     "output_type": "stream",
     "text": [
      "100%|██████████| 32/32 [00:03<00:00,  9.68it/s]\n",
      "  3%|▎         | 1/32 [00:00<00:03,  9.66it/s]"
     ]
    },
    {
     "name": "stdout",
     "output_type": "stream",
     "text": [
      "mul_mul\n"
     ]
    },
    {
     "name": "stderr",
     "output_type": "stream",
     "text": [
      "100%|██████████| 32/32 [00:03<00:00,  8.77it/s]\n",
      " 22%|██▏       | 7/32 [00:00<00:00, 64.32it/s]"
     ]
    },
    {
     "name": "stdout",
     "output_type": "stream",
     "text": [
      "mul_None\n"
     ]
    },
    {
     "name": "stderr",
     "output_type": "stream",
     "text": [
      "100%|██████████| 32/32 [00:00<00:00, 60.77it/s]\n"
     ]
    }
   ],
   "source": [
    "from statsmodels.tsa.holtwinters import ExponentialSmoothing\n",
    "trend_ets = ['add', 'mul']\n",
    "seasonality_ets = ['add', 'mul', None]\n",
    "metric_ets = {}\n",
    "for i in trend_ets:\n",
    "    for j in seasonality_ets:\n",
    "        print(f'{i}_{j}')\n",
    "        metric_ets[f'{i}_{j}'] = evaluate_ets_model(data.MedianSoldPrice , i, j, 0.67, 12)"
   ]
  },
  {
   "cell_type": "code",
   "execution_count": 24,
   "id": "6ce3f8a5",
   "metadata": {
    "ExecuteTime": {
     "end_time": "2021-12-08T03:47:32.120337Z",
     "start_time": "2021-12-08T03:47:32.117950Z"
    }
   },
   "outputs": [
    {
     "data": {
      "text/plain": [
       "{'add_add': (12525.597586775266, 0.02232388145324332),\n",
       " 'add_mul': (42048.53209605236, 0.046716165210892086),\n",
       " 'add_None': (9915.127918338381, 0.018088846566589562),\n",
       " 'mul_add': (5.148277936191923e+46, 2.0224345778413309e+40),\n",
       " 'mul_mul': (11066.603805582812, 0.020265933001436174),\n",
       " 'mul_None': (9846.88234216811, 0.018000427749011054)}"
      ]
     },
     "execution_count": 24,
     "metadata": {},
     "output_type": "execute_result"
    }
   ],
   "source": [
    "metric_ets"
   ]
  },
  {
   "cell_type": "code",
   "execution_count": 25,
   "id": "7d358b49",
   "metadata": {
    "ExecuteTime": {
     "end_time": "2021-12-08T03:47:32.127334Z",
     "start_time": "2021-12-08T03:47:32.121169Z"
    },
    "scrolled": true
   },
   "outputs": [
    {
     "data": {
      "text/html": [
       "<div>\n",
       "<style scoped>\n",
       "    .dataframe tbody tr th:only-of-type {\n",
       "        vertical-align: middle;\n",
       "    }\n",
       "\n",
       "    .dataframe tbody tr th {\n",
       "        vertical-align: top;\n",
       "    }\n",
       "\n",
       "    .dataframe thead th {\n",
       "        text-align: right;\n",
       "    }\n",
       "</style>\n",
       "<table border=\"1\" class=\"dataframe\">\n",
       "  <thead>\n",
       "    <tr style=\"text-align: right;\">\n",
       "      <th></th>\n",
       "      <th>add_add</th>\n",
       "      <th>add_mul</th>\n",
       "      <th>add_None</th>\n",
       "      <th>mul_add</th>\n",
       "      <th>mul_mul</th>\n",
       "      <th>mul_None</th>\n",
       "    </tr>\n",
       "  </thead>\n",
       "  <tbody>\n",
       "    <tr>\n",
       "      <th>0</th>\n",
       "      <td>12525.597587</td>\n",
       "      <td>42048.532096</td>\n",
       "      <td>9915.127918</td>\n",
       "      <td>5.148278e+46</td>\n",
       "      <td>11066.603806</td>\n",
       "      <td>9846.882342</td>\n",
       "    </tr>\n",
       "    <tr>\n",
       "      <th>1</th>\n",
       "      <td>0.022324</td>\n",
       "      <td>0.046716</td>\n",
       "      <td>0.018089</td>\n",
       "      <td>2.022435e+40</td>\n",
       "      <td>0.020266</td>\n",
       "      <td>0.018000</td>\n",
       "    </tr>\n",
       "  </tbody>\n",
       "</table>\n",
       "</div>"
      ],
      "text/plain": [
       "        add_add       add_mul     add_None       mul_add       mul_mul  \\\n",
       "0  12525.597587  42048.532096  9915.127918  5.148278e+46  11066.603806   \n",
       "1      0.022324      0.046716     0.018089  2.022435e+40      0.020266   \n",
       "\n",
       "      mul_None  \n",
       "0  9846.882342  \n",
       "1     0.018000  "
      ]
     },
     "execution_count": 25,
     "metadata": {},
     "output_type": "execute_result"
    }
   ],
   "source": [
    "Case_2_results = pd.DataFrame(metric_ets)\n",
    "Case_2_results"
   ]
  },
  {
   "cell_type": "markdown",
   "id": "206a61f7",
   "metadata": {},
   "source": [
    "#### Best Model for this scenario based on lowest rmse score is Trend: Additive  Seasonality: None"
   ]
  },
  {
   "cell_type": "markdown",
   "id": "d8e99fe1",
   "metadata": {
    "ExecuteTime": {
     "end_time": "2021-12-06T09:20:46.032657Z",
     "start_time": "2021-12-06T09:20:46.031218Z"
    }
   },
   "source": [
    "### Candidate 4: Prophet models"
   ]
  },
  {
   "cell_type": "code",
   "execution_count": 26,
   "id": "bd072836",
   "metadata": {
    "ExecuteTime": {
     "end_time": "2021-12-08T03:47:32.208421Z",
     "start_time": "2021-12-08T03:47:32.128293Z"
    }
   },
   "outputs": [
    {
     "name": "stderr",
     "output_type": "stream",
     "text": [
      "Importing plotly failed. Interactive plots will not work.\n"
     ]
    }
   ],
   "source": [
    "from prophet import Prophet\n",
    "train_size = int(len(data) * 0.67)\n",
    "train, val = data[0:train_size], data[train_size:]\n",
    "train = train[['Date', 'MedianSoldPrice']].rename(columns={'Date':'ds','MedianSoldPrice':'y'})\n",
    "val = val[['Date', 'MedianSoldPrice']].rename(columns={'Date':'ds','MedianSoldPrice':'y'})"
   ]
  },
  {
   "cell_type": "code",
   "execution_count": 27,
   "id": "1a5c3845",
   "metadata": {
    "ExecuteTime": {
     "end_time": "2021-12-08T03:47:36.013004Z",
     "start_time": "2021-12-08T03:47:32.211266Z"
    }
   },
   "outputs": [
    {
     "name": "stderr",
     "output_type": "stream",
     "text": [
      "INFO:numexpr.utils:NumExpr defaulting to 8 threads.\n",
      "INFO:prophet:Disabling weekly seasonality. Run prophet with weekly_seasonality=True to override this.\n",
      "INFO:prophet:Disabling daily seasonality. Run prophet with daily_seasonality=True to override this.\n"
     ]
    },
    {
     "data": {
      "image/png": "[encoded data removed]",
      "text/plain": [
       "<Figure size 720x432 with 1 Axes>"
      ]
     },
     "metadata": {},
     "output_type": "display_data"
    }
   ],
   "source": [
    "m = Prophet(seasonality_mode='multiplicative').fit(train)\n",
    "future = m.make_future_dataframe(periods=(len(val)), freq = 'M')\n",
    "fcst = m.predict(future)\n",
    "fig = m.plot(fcst)"
   ]
  },
  {
   "cell_type": "code",
   "execution_count": 28,
   "id": "a9799f4a",
   "metadata": {
    "ExecuteTime": {
     "end_time": "2021-12-08T03:47:36.018816Z",
     "start_time": "2021-12-08T03:47:36.015833Z"
    }
   },
   "outputs": [],
   "source": [
    "rmse_val = np.sqrt(skmetrics.mean_squared_error(val['y'], fcst['yhat'][train_size:]))\n",
    "mape_val = mean_absolute_percentage_error(val['y'], fcst['yhat'][train_size:])"
   ]
  },
  {
   "cell_type": "code",
   "execution_count": 29,
   "id": "0a3874b1",
   "metadata": {
    "ExecuteTime": {
     "end_time": "2021-12-08T03:47:36.024469Z",
     "start_time": "2021-12-08T03:47:36.019728Z"
    }
   },
   "outputs": [
    {
     "data": {
      "text/html": [
       "<div>\n",
       "<style scoped>\n",
       "    .dataframe tbody tr th:only-of-type {\n",
       "        vertical-align: middle;\n",
       "    }\n",
       "\n",
       "    .dataframe tbody tr th {\n",
       "        vertical-align: top;\n",
       "    }\n",
       "\n",
       "    .dataframe thead th {\n",
       "        text-align: right;\n",
       "    }\n",
       "</style>\n",
       "<table border=\"1\" class=\"dataframe\">\n",
       "  <thead>\n",
       "    <tr style=\"text-align: right;\">\n",
       "      <th></th>\n",
       "      <th>rmse_val</th>\n",
       "      <th>mape_val</th>\n",
       "    </tr>\n",
       "  </thead>\n",
       "  <tbody>\n",
       "    <tr>\n",
       "      <th>cand1</th>\n",
       "      <td>22482.005808</td>\n",
       "      <td>0.039515</td>\n",
       "    </tr>\n",
       "  </tbody>\n",
       "</table>\n",
       "</div>"
      ],
      "text/plain": [
       "           rmse_val  mape_val\n",
       "cand1  22482.005808  0.039515"
      ]
     },
     "execution_count": 29,
     "metadata": {},
     "output_type": "execute_result"
    }
   ],
   "source": [
    "Case_2p_results = pd.DataFrame([[rmse_val,mape_val]], columns=['rmse_val','mape_val'],index=['cand1'])\n",
    "Case_2p_results"
   ]
  },
  {
   "cell_type": "markdown",
   "id": "910fc6a3",
   "metadata": {
    "ExecuteTime": {
     "end_time": "2021-12-06T10:07:20.374082Z",
     "start_time": "2021-12-06T10:07:20.371410Z"
    }
   },
   "source": [
    "#### Cross validation"
   ]
  },
  {
   "cell_type": "code",
   "execution_count": 30,
   "id": "ef463b8a",
   "metadata": {
    "ExecuteTime": {
     "end_time": "2021-12-08T03:47:36.030280Z",
     "start_time": "2021-12-08T03:47:36.025571Z"
    }
   },
   "outputs": [],
   "source": [
    "from prophet.diagnostics import cross_validation\n",
    "data_p = data[['Date', 'MedianSoldPrice']].rename(columns={'Date':'ds','MedianSoldPrice':'y'})\n",
    "# m_1=Prophet(seasonality_mode='multiplicative')\n",
    "# m_1.fit(data_p)\n",
    "# initial = f'{int(0.8*len(data_p))-1} days'\n",
    "# df_cv = cross_validation(m_1, initial=initial, period='1 days', horizon = '30 days')"
   ]
  },
  {
   "cell_type": "code",
   "execution_count": 31,
   "id": "cbc52812",
   "metadata": {
    "ExecuteTime": {
     "end_time": "2021-12-08T03:47:36.035847Z",
     "start_time": "2021-12-08T03:47:36.032196Z"
    }
   },
   "outputs": [],
   "source": [
    "def evaluate_prophet_model(X, split):\n",
    "    train_size = int(len(X) * split)\n",
    "    train, test = X[0:train_size], X[train_size:]\n",
    "\n",
    "    predictions = list()\n",
    "    for t in tqdm(range(len(test))):\n",
    "        model_2 = Prophet()\n",
    "        model_fit = model_2.fit(X[:train_size+t])\n",
    "        future = model_2.make_future_dataframe(periods=1, freq='M')\n",
    "        forecast = model_2.predict(future)\n",
    "        \n",
    "        yhat = forecast[\"yhat\"][train_size+t:].values #predict one step\n",
    "        predictions.append(yhat) #store prediction\n",
    "    \n",
    "    predictions = np.asarray(predictions).reshape(-1,)\n",
    "    rmse_val = np.sqrt(skmetrics.mean_squared_error(test.y.values, predictions))\n",
    "    mape = mean_absolute_percentage_error(test.y.values, predictions)\n",
    "    return rmse_val,mape"
   ]
  },
  {
   "cell_type": "code",
   "execution_count": 32,
   "id": "f8881eee",
   "metadata": {
    "ExecuteTime": {
     "end_time": "2021-12-08T03:49:03.655478Z",
     "start_time": "2021-12-08T03:47:36.037240Z"
    },
    "scrolled": false
   },
   "outputs": [
    {
     "name": "stderr",
     "output_type": "stream",
     "text": [
      "  0%|          | 0/32 [00:00<?, ?it/s]INFO:prophet:Disabling weekly seasonality. Run prophet with weekly_seasonality=True to override this.\n",
      "INFO:prophet:Disabling daily seasonality. Run prophet with daily_seasonality=True to override this.\n",
      "  3%|▎         | 1/32 [00:01<01:00,  1.95s/it]INFO:prophet:Disabling weekly seasonality. Run prophet with weekly_seasonality=True to override this.\n",
      "INFO:prophet:Disabling daily seasonality. Run prophet with daily_seasonality=True to override this.\n",
      "  6%|▋         | 2/32 [00:04<01:13,  2.47s/it]INFO:prophet:Disabling weekly seasonality. Run prophet with weekly_seasonality=True to override this.\n",
      "INFO:prophet:Disabling daily seasonality. Run prophet with daily_seasonality=True to override this.\n",
      "  9%|▉         | 3/32 [00:07<01:11,  2.46s/it]INFO:prophet:Disabling weekly seasonality. Run prophet with weekly_seasonality=True to override this.\n",
      "INFO:prophet:Disabling daily seasonality. Run prophet with daily_seasonality=True to override this.\n",
      " 12%|█▎        | 4/32 [00:09<01:07,  2.40s/it]INFO:prophet:Disabling weekly seasonality. Run prophet with weekly_seasonality=True to override this.\n",
      "INFO:prophet:Disabling daily seasonality. Run prophet with daily_seasonality=True to override this.\n",
      " 16%|█▌        | 5/32 [00:12<01:09,  2.57s/it]INFO:prophet:Disabling weekly seasonality. Run prophet with weekly_seasonality=True to override this.\n",
      "INFO:prophet:Disabling daily seasonality. Run prophet with daily_seasonality=True to override this.\n",
      " 19%|█▉        | 6/32 [00:15<01:08,  2.63s/it]INFO:prophet:Disabling weekly seasonality. Run prophet with weekly_seasonality=True to override this.\n",
      "INFO:prophet:Disabling daily seasonality. Run prophet with daily_seasonality=True to override this.\n",
      " 22%|██▏       | 7/32 [00:17<01:04,  2.58s/it]INFO:prophet:Disabling weekly seasonality. Run prophet with weekly_seasonality=True to override this.\n",
      "INFO:prophet:Disabling daily seasonality. Run prophet with daily_seasonality=True to override this.\n",
      " 25%|██▌       | 8/32 [00:20<01:01,  2.55s/it]INFO:prophet:Disabling weekly seasonality. Run prophet with weekly_seasonality=True to override this.\n",
      "INFO:prophet:Disabling daily seasonality. Run prophet with daily_seasonality=True to override this.\n",
      " 28%|██▊       | 9/32 [00:22<00:59,  2.58s/it]INFO:prophet:Disabling weekly seasonality. Run prophet with weekly_seasonality=True to override this.\n",
      "INFO:prophet:Disabling daily seasonality. Run prophet with daily_seasonality=True to override this.\n",
      " 31%|███▏      | 10/32 [00:25<00:55,  2.52s/it]INFO:prophet:Disabling weekly seasonality. Run prophet with weekly_seasonality=True to override this.\n",
      "INFO:prophet:Disabling daily seasonality. Run prophet with daily_seasonality=True to override this.\n",
      " 34%|███▍      | 11/32 [00:27<00:51,  2.47s/it]INFO:prophet:Disabling weekly seasonality. Run prophet with weekly_seasonality=True to override this.\n",
      "INFO:prophet:Disabling daily seasonality. Run prophet with daily_seasonality=True to override this.\n",
      " 38%|███▊      | 12/32 [00:29<00:47,  2.39s/it]INFO:prophet:Disabling weekly seasonality. Run prophet with weekly_seasonality=True to override this.\n",
      "INFO:prophet:Disabling daily seasonality. Run prophet with daily_seasonality=True to override this.\n",
      " 41%|████      | 13/32 [00:31<00:44,  2.35s/it]INFO:prophet:Disabling weekly seasonality. Run prophet with weekly_seasonality=True to override this.\n",
      "INFO:prophet:Disabling daily seasonality. Run prophet with daily_seasonality=True to override this.\n",
      " 44%|████▍     | 14/32 [00:34<00:42,  2.35s/it]INFO:prophet:Disabling weekly seasonality. Run prophet with weekly_seasonality=True to override this.\n",
      "INFO:prophet:Disabling daily seasonality. Run prophet with daily_seasonality=True to override this.\n",
      " 47%|████▋     | 15/32 [00:36<00:41,  2.42s/it]INFO:prophet:Disabling weekly seasonality. Run prophet with weekly_seasonality=True to override this.\n",
      "INFO:prophet:Disabling daily seasonality. Run prophet with daily_seasonality=True to override this.\n",
      " 50%|█████     | 16/32 [00:40<00:42,  2.66s/it]INFO:prophet:Disabling weekly seasonality. Run prophet with weekly_seasonality=True to override this.\n",
      "INFO:prophet:Disabling daily seasonality. Run prophet with daily_seasonality=True to override this.\n",
      " 53%|█████▎    | 17/32 [00:42<00:40,  2.73s/it]INFO:prophet:Disabling weekly seasonality. Run prophet with weekly_seasonality=True to override this.\n",
      "INFO:prophet:Disabling daily seasonality. Run prophet with daily_seasonality=True to override this.\n",
      " 56%|█████▋    | 18/32 [00:46<00:39,  2.82s/it]INFO:prophet:Disabling weekly seasonality. Run prophet with weekly_seasonality=True to override this.\n",
      "INFO:prophet:Disabling daily seasonality. Run prophet with daily_seasonality=True to override this.\n",
      " 59%|█████▉    | 19/32 [00:48<00:37,  2.85s/it]INFO:prophet:Disabling weekly seasonality. Run prophet with weekly_seasonality=True to override this.\n",
      "INFO:prophet:Disabling daily seasonality. Run prophet with daily_seasonality=True to override this.\n",
      " 62%|██████▎   | 20/32 [00:52<00:36,  3.03s/it]INFO:prophet:Disabling weekly seasonality. Run prophet with weekly_seasonality=True to override this.\n",
      "INFO:prophet:Disabling daily seasonality. Run prophet with daily_seasonality=True to override this.\n",
      " 66%|██████▌   | 21/32 [00:55<00:33,  3.01s/it]INFO:prophet:Disabling weekly seasonality. Run prophet with weekly_seasonality=True to override this.\n",
      "INFO:prophet:Disabling daily seasonality. Run prophet with daily_seasonality=True to override this.\n",
      " 69%|██████▉   | 22/32 [00:57<00:28,  2.87s/it]INFO:prophet:Disabling weekly seasonality. Run prophet with weekly_seasonality=True to override this.\n",
      "INFO:prophet:Disabling daily seasonality. Run prophet with daily_seasonality=True to override this.\n",
      " 72%|███████▏  | 23/32 [01:01<00:27,  3.11s/it]INFO:prophet:Disabling weekly seasonality. Run prophet with weekly_seasonality=True to override this.\n",
      "INFO:prophet:Disabling daily seasonality. Run prophet with daily_seasonality=True to override this.\n",
      " 75%|███████▌  | 24/32 [01:04<00:24,  3.12s/it]INFO:prophet:Disabling weekly seasonality. Run prophet with weekly_seasonality=True to override this.\n",
      "INFO:prophet:Disabling daily seasonality. Run prophet with daily_seasonality=True to override this.\n",
      " 78%|███████▊  | 25/32 [01:07<00:21,  3.05s/it]INFO:prophet:Disabling weekly seasonality. Run prophet with weekly_seasonality=True to override this.\n",
      "INFO:prophet:Disabling daily seasonality. Run prophet with daily_seasonality=True to override this.\n",
      " 81%|████████▏ | 26/32 [01:11<00:19,  3.18s/it]INFO:prophet:Disabling weekly seasonality. Run prophet with weekly_seasonality=True to override this.\n",
      "INFO:prophet:Disabling daily seasonality. Run prophet with daily_seasonality=True to override this.\n",
      " 84%|████████▍ | 27/32 [01:13<00:14,  2.93s/it]INFO:prophet:Disabling weekly seasonality. Run prophet with weekly_seasonality=True to override this.\n",
      "INFO:prophet:Disabling daily seasonality. Run prophet with daily_seasonality=True to override this.\n",
      " 88%|████████▊ | 28/32 [01:16<00:11,  2.93s/it]INFO:prophet:Disabling weekly seasonality. Run prophet with weekly_seasonality=True to override this.\n",
      "INFO:prophet:Disabling daily seasonality. Run prophet with daily_seasonality=True to override this.\n",
      " 91%|█████████ | 29/32 [01:19<00:08,  2.86s/it]INFO:prophet:Disabling weekly seasonality. Run prophet with weekly_seasonality=True to override this.\n",
      "INFO:prophet:Disabling daily seasonality. Run prophet with daily_seasonality=True to override this.\n",
      " 94%|█████████▍| 30/32 [01:21<00:05,  2.67s/it]INFO:prophet:Disabling weekly seasonality. Run prophet with weekly_seasonality=True to override this.\n",
      "INFO:prophet:Disabling daily seasonality. Run prophet with daily_seasonality=True to override this.\n",
      " 97%|█████████▋| 31/32 [01:23<00:02,  2.68s/it]INFO:prophet:Disabling weekly seasonality. Run prophet with weekly_seasonality=True to override this.\n",
      "INFO:prophet:Disabling daily seasonality. Run prophet with daily_seasonality=True to override this.\n",
      "100%|██████████| 32/32 [01:27<00:00,  2.74s/it]\n"
     ]
    },
    {
     "data": {
      "text/plain": [
       "(11513.812961283602, 0.021568281339619744)"
      ]
     },
     "execution_count": 32,
     "metadata": {},
     "output_type": "execute_result"
    }
   ],
   "source": [
    "evaluate_prophet_model(data_p, 0.67)"
   ]
  },
  {
   "cell_type": "markdown",
   "id": "024f6489",
   "metadata": {},
   "source": [
    "We see that as compared to our other candidates models above prophet doesn't perform as well(as verified using RMSE scores)\n",
    "\n",
    "#### We keep the default prophet model as our candidate"
   ]
  },
  {
   "cell_type": "markdown",
   "id": "5d986c3f",
   "metadata": {
    "ExecuteTime": {
     "end_time": "2021-12-06T09:20:46.036254Z",
     "start_time": "2021-12-06T09:20:46.034656Z"
    }
   },
   "source": [
    "## -----------------------------------------------------------------------------------------------------------"
   ]
  },
  {
   "cell_type": "markdown",
   "id": "0cfef596",
   "metadata": {
    "ExecuteTime": {
     "end_time": "2021-12-03T10:06:59.821744Z",
     "start_time": "2021-12-03T10:06:59.818760Z"
    }
   },
   "source": [
    "## Case 3: Multivariate with Exogenous"
   ]
  },
  {
   "cell_type": "code",
   "execution_count": 33,
   "id": "30d1c395",
   "metadata": {
    "ExecuteTime": {
     "end_time": "2021-12-08T03:49:03.658162Z",
     "start_time": "2021-12-08T03:49:03.656468Z"
    }
   },
   "outputs": [],
   "source": [
    "from sklearn.preprocessing import MinMaxScaler"
   ]
  },
  {
   "cell_type": "code",
   "execution_count": 34,
   "id": "b84027f7",
   "metadata": {
    "ExecuteTime": {
     "end_time": "2021-12-08T03:49:03.662948Z",
     "start_time": "2021-12-08T03:49:03.659032Z"
    }
   },
   "outputs": [],
   "source": [
    "def evaluate_sarima_exog_model_scaled(X, exog, trend_order, seasonal_order, split):\n",
    "    train_size = int(len(X) * split)\n",
    "    train, test = X[0:train_size], X[train_size:]\n",
    "\n",
    "    predictions = list()\n",
    "    sc = MinMaxScaler(feature_range = (0,1))\n",
    "    for t in tqdm(range(len(test))):\n",
    "        \n",
    "        d_sc = sc.fit_transform(X.iloc[:train_size+t,:].values)\n",
    "        t_sc = sc.transform(X.iloc[train_size+t,:].values.reshape(1,-1))\n",
    "        model = sm.tsa.statespace.SARIMAX(d_sc[:train_size+t,0], exog = d_sc[:train_size+t, exog:], \n",
    "                                          order=trend_order,seasonal_order=seasonal_order) #rolling forward for one step at each time\n",
    "\n",
    "        model_fit = model.fit()\n",
    "        yhat = model_fit.forecast(1,exog = t_sc[0,exog:])\n",
    "        y_pred_ = np.repeat(yhat.reshape(-1,1), 3 if exog == -2 else 2, axis = 1)\n",
    "        y_pred_inv = sc.inverse_transform(y_pred_)[0,0]\n",
    "        predictions.append(y_pred_inv)\n",
    "\n",
    "    test = np.asanyarray(test.values[:,0]).reshape(-1,)\n",
    "    #mae = skmetrics.mean_absolute_error(test, predictions)\n",
    "    rmse = np.sqrt(skmetrics.mean_squared_error(test, predictions))\n",
    "    mape = mean_absolute_percentage_error(test, predictions)\n",
    "    return rmse, mape"
   ]
  },
  {
   "cell_type": "code",
   "execution_count": 35,
   "id": "bf64f101",
   "metadata": {
    "ExecuteTime": {
     "end_time": "2021-12-08T03:49:03.666974Z",
     "start_time": "2021-12-08T03:49:03.663759Z"
    }
   },
   "outputs": [
    {
     "data": {
      "text/plain": [
       "(95, 1)"
      ]
     },
     "execution_count": 35,
     "metadata": {},
     "output_type": "execute_result"
    }
   ],
   "source": [
    "sc = MinMaxScaler(feature_range = (0,1))\n",
    "data_sc = sc.fit_transform(data.iloc[:,[1,3]].values)\n",
    "data_sc[:,-1].reshape(-1,1).shape"
   ]
  },
  {
   "cell_type": "markdown",
   "id": "21b49334",
   "metadata": {
    "ExecuteTime": {
     "end_time": "2021-12-06T19:11:53.686516Z",
     "start_time": "2021-12-06T19:11:53.682766Z"
    }
   },
   "source": [
    "### Candidate 1: Exogenous var is UnemploymentRate"
   ]
  },
  {
   "cell_type": "code",
   "execution_count": 36,
   "id": "59362c9a",
   "metadata": {
    "ExecuteTime": {
     "end_time": "2021-12-08T03:49:28.718979Z",
     "start_time": "2021-12-08T03:49:03.667915Z"
    }
   },
   "outputs": [
    {
     "name": "stdout",
     "output_type": "stream",
     "text": [
      "Performing stepwise search to minimize aic\n",
      " ARIMA(0,0,0)(1,1,1)[12] intercept   : AIC=inf, Time=0.43 sec\n",
      " ARIMA(0,0,0)(0,1,0)[12] intercept   : AIC=-24.262, Time=0.02 sec\n",
      " ARIMA(1,0,0)(1,1,0)[12] intercept   : AIC=-188.071, Time=0.33 sec\n",
      " ARIMA(0,0,1)(0,1,1)[12] intercept   : AIC=-84.962, Time=0.30 sec\n",
      " ARIMA(0,0,0)(0,1,0)[12]             : AIC=-22.415, Time=0.03 sec\n",
      " ARIMA(1,0,0)(0,1,0)[12] intercept   : AIC=-188.721, Time=0.11 sec\n",
      " ARIMA(1,0,0)(0,1,1)[12] intercept   : AIC=-189.256, Time=0.34 sec\n",
      " ARIMA(1,0,0)(1,1,1)[12] intercept   : AIC=-186.903, Time=0.47 sec\n",
      " ARIMA(1,0,0)(0,1,2)[12] intercept   : AIC=inf, Time=1.65 sec\n",
      " ARIMA(1,0,0)(1,1,2)[12] intercept   : AIC=-188.274, Time=1.18 sec\n",
      " ARIMA(0,0,0)(0,1,1)[12] intercept   : AIC=-25.770, Time=0.11 sec\n",
      " ARIMA(2,0,0)(0,1,1)[12] intercept   : AIC=-192.196, Time=0.46 sec\n",
      " ARIMA(2,0,0)(0,1,0)[12] intercept   : AIC=inf, Time=0.30 sec\n",
      " ARIMA(2,0,0)(1,1,1)[12] intercept   : AIC=inf, Time=0.63 sec\n",
      " ARIMA(2,0,0)(0,1,2)[12] intercept   : AIC=inf, Time=1.56 sec\n",
      " ARIMA(2,0,0)(1,1,0)[12] intercept   : AIC=inf, Time=0.49 sec\n",
      " ARIMA(2,0,0)(1,1,2)[12] intercept   : AIC=inf, Time=2.00 sec\n",
      " ARIMA(3,0,0)(0,1,1)[12] intercept   : AIC=-190.294, Time=0.56 sec\n",
      " ARIMA(2,0,1)(0,1,1)[12] intercept   : AIC=-190.430, Time=0.54 sec\n",
      " ARIMA(1,0,1)(0,1,1)[12] intercept   : AIC=-190.705, Time=0.47 sec\n",
      " ARIMA(3,0,1)(0,1,1)[12] intercept   : AIC=-188.582, Time=0.57 sec\n",
      " ARIMA(2,0,0)(0,1,1)[12]             : AIC=-194.117, Time=0.47 sec\n",
      " ARIMA(2,0,0)(0,1,0)[12]             : AIC=inf, Time=0.14 sec\n",
      " ARIMA(2,0,0)(1,1,1)[12]             : AIC=inf, Time=0.41 sec\n",
      " ARIMA(2,0,0)(0,1,2)[12]             : AIC=inf, Time=1.16 sec\n",
      " ARIMA(2,0,0)(1,1,0)[12]             : AIC=inf, Time=0.35 sec\n",
      " ARIMA(2,0,0)(1,1,2)[12]             : AIC=inf, Time=1.49 sec\n",
      " ARIMA(1,0,0)(0,1,1)[12]             : AIC=-191.164, Time=0.41 sec\n",
      " ARIMA(3,0,0)(0,1,1)[12]             : AIC=-194.143, Time=0.48 sec\n",
      " ARIMA(3,0,0)(0,1,0)[12]             : AIC=-190.941, Time=0.19 sec\n",
      " ARIMA(3,0,0)(1,1,1)[12]             : AIC=inf, Time=0.68 sec\n",
      " ARIMA(3,0,0)(0,1,2)[12]             : AIC=inf, Time=1.57 sec\n",
      " ARIMA(3,0,0)(1,1,0)[12]             : AIC=inf, Time=0.70 sec\n",
      " ARIMA(3,0,0)(1,1,2)[12]             : AIC=inf, Time=1.91 sec\n",
      " ARIMA(4,0,0)(0,1,1)[12]             : AIC=inf, Time=0.66 sec\n",
      " ARIMA(3,0,1)(0,1,1)[12]             : AIC=-191.461, Time=0.65 sec\n",
      " ARIMA(2,0,1)(0,1,1)[12]             : AIC=-192.957, Time=0.50 sec\n",
      " ARIMA(4,0,1)(0,1,1)[12]             : AIC=-190.702, Time=0.68 sec\n",
      "\n",
      "Best model:  ARIMA(3,0,0)(0,1,1)[12]          \n",
      "Total fit time: 25.038 seconds\n",
      "                                      SARIMAX Results                                       \n",
      "============================================================================================\n",
      "Dep. Variable:                                    y   No. Observations:                   95\n",
      "Model:             SARIMAX(3, 0, 0)x(0, 1, [1], 12)   Log Likelihood                 103.071\n",
      "Date:                              Tue, 07 Dec 2021   AIC                           -194.143\n",
      "Time:                                      19:49:28   BIC                           -179.630\n",
      "Sample:                                           0   HQIC                          -188.312\n",
      "                                               - 95                                         \n",
      "Covariance Type:                                opg                                         \n",
      "==============================================================================\n",
      "                 coef    std err          z      P>|z|      [0.025      0.975]\n",
      "------------------------------------------------------------------------------\n",
      "x1             0.1143      0.103      1.111      0.267      -0.087       0.316\n",
      "ar.L1          0.7542      0.106      7.147      0.000       0.547       0.961\n",
      "ar.L2          0.4282      0.152      2.821      0.005       0.131       0.726\n",
      "ar.L3         -0.1894      0.140     -1.356      0.175      -0.463       0.084\n",
      "ma.S.L12      -0.4990      0.128     -3.891      0.000      -0.750      -0.248\n",
      "sigma2         0.0045      0.001      7.023      0.000       0.003       0.006\n",
      "===================================================================================\n",
      "Ljung-Box (L1) (Q):                   3.45   Jarque-Bera (JB):                 2.65\n",
      "Prob(Q):                              0.06   Prob(JB):                         0.27\n",
      "Heteroskedasticity (H):               0.31   Skew:                             0.34\n",
      "Prob(H) (two-sided):                  0.00   Kurtosis:                         3.54\n",
      "===================================================================================\n",
      "\n",
      "Warnings:\n",
      "[1] Covariance matrix calculated using the outer product of gradients (complex-step).\n"
     ]
    }
   ],
   "source": [
    "sc = MinMaxScaler(feature_range = (0,1))\n",
    "data_sc = sc.fit_transform(data.iloc[:,[1,3]].values)\n",
    "model_3_1 = auto_arima(data_sc[:,0], # gdp as endogenous\n",
    "                 exogenous= data_sc[:,-1:], # rest as exogenous\n",
    "                 start_p=0, start_q=0, \n",
    "                 max_p=5, max_q=5, \n",
    "                 max_d=2,\n",
    "                 m=12, D=1, max_P=3, max_Q=3,\n",
    "                 trace=True,\n",
    "                 error_action='ignore', \n",
    "                 suppress_warnings=True,information_criterion='oob', n_jobs = -1)\n",
    "print(model_3_1.summary())"
   ]
  },
  {
   "cell_type": "markdown",
   "id": "c26dacc4",
   "metadata": {
    "ExecuteTime": {
     "end_time": "2021-12-06T19:14:10.230395Z",
     "start_time": "2021-12-06T19:14:10.227272Z"
    }
   },
   "source": [
    "#### Candidate 1: ARIMA(2,0,0)(0,1,1)[12] exog = unemployment rate"
   ]
  },
  {
   "cell_type": "markdown",
   "id": "537969af",
   "metadata": {
    "ExecuteTime": {
     "end_time": "2021-12-06T19:14:38.908438Z",
     "start_time": "2021-12-06T19:14:38.905792Z"
    }
   },
   "source": [
    "### Candidate 2: Exogenous var is Morgage rate"
   ]
  },
  {
   "cell_type": "code",
   "execution_count": 37,
   "id": "2dd1641c",
   "metadata": {
    "ExecuteTime": {
     "end_time": "2021-12-08T03:49:34.004637Z",
     "start_time": "2021-12-08T03:49:28.720022Z"
    },
    "scrolled": true
   },
   "outputs": [
    {
     "name": "stdout",
     "output_type": "stream",
     "text": [
      "Performing stepwise search to minimize aic\n",
      " ARIMA(0,2,0)(1,0,1)[12]             : AIC=-159.896, Time=0.13 sec\n",
      " ARIMA(0,2,0)(0,0,0)[12]             : AIC=-140.790, Time=0.01 sec\n",
      " ARIMA(1,2,0)(1,0,0)[12]             : AIC=-211.849, Time=0.07 sec\n",
      " ARIMA(0,2,1)(0,0,1)[12]             : AIC=-230.335, Time=0.09 sec\n",
      " ARIMA(0,2,1)(0,0,0)[12]             : AIC=-210.835, Time=0.04 sec\n",
      " ARIMA(0,2,1)(1,0,1)[12]             : AIC=-233.004, Time=0.28 sec\n",
      " ARIMA(0,2,1)(1,0,0)[12]             : AIC=-234.985, Time=0.13 sec\n",
      " ARIMA(0,2,1)(2,0,0)[12]             : AIC=-232.998, Time=0.45 sec\n",
      " ARIMA(0,2,1)(2,0,1)[12]             : AIC=-231.000, Time=0.53 sec\n",
      " ARIMA(0,2,0)(1,0,0)[12]             : AIC=-161.412, Time=0.10 sec\n",
      " ARIMA(1,2,1)(1,0,0)[12]             : AIC=-242.299, Time=0.26 sec\n",
      " ARIMA(1,2,1)(0,0,0)[12]             : AIC=-213.215, Time=0.05 sec\n",
      " ARIMA(1,2,1)(2,0,0)[12]             : AIC=-240.631, Time=0.53 sec\n",
      " ARIMA(1,2,1)(1,0,1)[12]             : AIC=-241.110, Time=0.27 sec\n",
      " ARIMA(1,2,1)(0,0,1)[12]             : AIC=-234.363, Time=0.15 sec\n",
      " ARIMA(1,2,1)(2,0,1)[12]             : AIC=-240.428, Time=0.68 sec\n",
      " ARIMA(2,2,1)(1,0,0)[12]             : AIC=-240.809, Time=0.20 sec\n",
      " ARIMA(1,2,2)(1,0,0)[12]             : AIC=-240.602, Time=0.30 sec\n",
      " ARIMA(0,2,2)(1,0,0)[12]             : AIC=-241.920, Time=0.15 sec\n",
      " ARIMA(2,2,0)(1,0,0)[12]             : AIC=-232.221, Time=0.19 sec\n",
      " ARIMA(2,2,2)(1,0,0)[12]             : AIC=-238.939, Time=0.31 sec\n",
      " ARIMA(1,2,1)(1,0,0)[12] intercept   : AIC=-241.037, Time=0.30 sec\n",
      "\n",
      "Best model:  ARIMA(1,2,1)(1,0,0)[12]          \n",
      "Total fit time: 5.274 seconds\n",
      "                                      SARIMAX Results                                      \n",
      "===========================================================================================\n",
      "Dep. Variable:                                   y   No. Observations:                   95\n",
      "Model:             SARIMAX(1, 2, 1)x(1, 0, [], 12)   Log Likelihood                 126.149\n",
      "Date:                             Tue, 07 Dec 2021   AIC                           -242.299\n",
      "Time:                                     19:49:33   BIC                           -229.636\n",
      "Sample:                                          0   HQIC                          -237.186\n",
      "                                              - 95                                         \n",
      "Covariance Type:                               opg                                         \n",
      "==============================================================================\n",
      "                 coef    std err          z      P>|z|      [0.025      0.975]\n",
      "------------------------------------------------------------------------------\n",
      "x1            -0.1556      0.087     -1.779      0.075      -0.327       0.016\n",
      "ar.L1         -0.3729      0.109     -3.418      0.001      -0.587      -0.159\n",
      "ma.L1         -0.8100      0.071    -11.374      0.000      -0.950      -0.670\n",
      "ar.S.L12       0.5939      0.080      7.461      0.000       0.438       0.750\n",
      "sigma2         0.0036      0.001      7.005      0.000       0.003       0.005\n",
      "===================================================================================\n",
      "Ljung-Box (L1) (Q):                   0.00   Jarque-Bera (JB):                 1.92\n",
      "Prob(Q):                              1.00   Prob(JB):                         0.38\n",
      "Heteroskedasticity (H):               0.79   Skew:                             0.34\n",
      "Prob(H) (two-sided):                  0.51   Kurtosis:                         3.16\n",
      "===================================================================================\n",
      "\n",
      "Warnings:\n",
      "[1] Covariance matrix calculated using the outer product of gradients (complex-step).\n"
     ]
    }
   ],
   "source": [
    "sc = MinMaxScaler(feature_range = (0,1))\n",
    "data_sc = sc.fit_transform(data.iloc[:,[1,2]].values)\n",
    "model_3_2 = auto_arima(data_sc[:,0], # gdp as endogenous\n",
    "                 exogenous= data_sc[:,-1:], # rest as exogenous\n",
    "                 start_p=0, start_q=0, \n",
    "                 max_p=5, max_q=5, \n",
    "                 max_d=2,\n",
    "                 m=12, D=None, max_P=3, max_Q=3,\n",
    "                 trace=True,\n",
    "                 error_action='ignore', \n",
    "                 suppress_warnings=True,information_criterion='oob', n_jobs = -1)\n",
    "\n",
    "\n",
    "print(model_3_2.summary())"
   ]
  },
  {
   "cell_type": "markdown",
   "id": "b42563ff",
   "metadata": {
    "ExecuteTime": {
     "end_time": "2021-12-06T19:16:46.770710Z",
     "start_time": "2021-12-06T19:16:46.766750Z"
    }
   },
   "source": [
    "#### Candidate 2 ARIMA(1,2,1)(1,0,0)[12] exog var = mortgage rate"
   ]
  },
  {
   "cell_type": "markdown",
   "id": "ca0cb9f6",
   "metadata": {
    "ExecuteTime": {
     "end_time": "2021-12-06T19:17:43.702586Z",
     "start_time": "2021-12-06T19:17:43.698119Z"
    }
   },
   "source": [
    "### Candidate 3: Both Exogenous var"
   ]
  },
  {
   "cell_type": "code",
   "execution_count": 38,
   "id": "7ad82b2c",
   "metadata": {
    "ExecuteTime": {
     "end_time": "2021-12-08T03:49:57.454980Z",
     "start_time": "2021-12-08T03:49:34.005804Z"
    }
   },
   "outputs": [
    {
     "name": "stdout",
     "output_type": "stream",
     "text": [
      "Performing stepwise search to minimize aic\n",
      " ARIMA(0,0,0)(1,1,1)[12] intercept   : AIC=inf, Time=0.66 sec\n",
      " ARIMA(0,0,0)(0,1,0)[12] intercept   : AIC=-34.583, Time=0.10 sec\n",
      " ARIMA(1,0,0)(1,1,0)[12] intercept   : AIC=-189.121, Time=0.54 sec\n",
      " ARIMA(0,0,1)(0,1,1)[12] intercept   : AIC=-90.183, Time=0.32 sec\n",
      " ARIMA(0,0,0)(0,1,0)[12]             : AIC=-24.494, Time=0.03 sec\n",
      " ARIMA(1,0,0)(0,1,0)[12] intercept   : AIC=-189.483, Time=0.24 sec\n",
      " ARIMA(1,0,0)(0,1,1)[12] intercept   : AIC=-190.247, Time=0.50 sec\n",
      " ARIMA(1,0,0)(1,1,1)[12] intercept   : AIC=-186.482, Time=0.55 sec\n",
      " ARIMA(1,0,0)(0,1,2)[12] intercept   : AIC=-192.175, Time=1.56 sec\n",
      " ARIMA(1,0,0)(1,1,2)[12] intercept   : AIC=-189.177, Time=1.52 sec\n",
      " ARIMA(1,0,0)(0,1,3)[12] intercept   : AIC=-190.061, Time=2.64 sec\n",
      " ARIMA(1,0,0)(1,1,3)[12] intercept   : AIC=inf, Time=3.96 sec\n",
      " ARIMA(0,0,0)(0,1,2)[12] intercept   : AIC=inf, Time=1.39 sec\n",
      " ARIMA(2,0,0)(0,1,2)[12] intercept   : AIC=inf, Time=2.34 sec\n",
      " ARIMA(1,0,1)(0,1,2)[12] intercept   : AIC=-190.811, Time=1.74 sec\n",
      " ARIMA(0,0,1)(0,1,2)[12] intercept   : AIC=-93.092, Time=1.13 sec\n",
      " ARIMA(2,0,1)(0,1,2)[12] intercept   : AIC=-191.982, Time=2.19 sec\n",
      " ARIMA(1,0,0)(0,1,2)[12]             : AIC=inf, Time=1.99 sec\n",
      "\n",
      "Best model:  ARIMA(1,0,0)(0,1,2)[12] intercept\n",
      "Total fit time: 23.438 seconds\n",
      "                                        SARIMAX Results                                        \n",
      "===============================================================================================\n",
      "Dep. Variable:                                       y   No. Observations:                   95\n",
      "Model:             SARIMAX(1, 0, 0)x(0, 1, [1, 2], 12)   Log Likelihood                 103.088\n",
      "Date:                                 Tue, 07 Dec 2021   AIC                           -192.175\n",
      "Time:                                         19:49:57   BIC                           -175.243\n",
      "Sample:                                              0   HQIC                          -185.373\n",
      "                                                  - 95                                         \n",
      "Covariance Type:                                   opg                                         \n",
      "==============================================================================\n",
      "                 coef    std err          z      P>|z|      [0.025      0.975]\n",
      "------------------------------------------------------------------------------\n",
      "intercept     -0.0005      0.003     -0.170      0.865      -0.006       0.005\n",
      "x1            -0.1416      0.127     -1.118      0.264      -0.390       0.107\n",
      "x2             0.0737      0.118      0.626      0.531      -0.157       0.304\n",
      "ar.L1          0.9889      0.026     38.461      0.000       0.939       1.039\n",
      "ma.S.L12      -0.3758      0.226     -1.661      0.097      -0.819       0.068\n",
      "ma.S.L24      -0.3326      0.190     -1.748      0.081      -0.706       0.040\n",
      "sigma2         0.0044      0.001      4.783      0.000       0.003       0.006\n",
      "===================================================================================\n",
      "Ljung-Box (L1) (Q):                  12.72   Jarque-Bera (JB):                 3.70\n",
      "Prob(Q):                              0.00   Prob(JB):                         0.16\n",
      "Heteroskedasticity (H):               0.42   Skew:                            -0.17\n",
      "Prob(H) (two-sided):                  0.02   Kurtosis:                         3.98\n",
      "===================================================================================\n",
      "\n",
      "Warnings:\n",
      "[1] Covariance matrix calculated using the outer product of gradients (complex-step).\n"
     ]
    }
   ],
   "source": [
    "sc = MinMaxScaler(feature_range = (0,1))\n",
    "data_sc = sc.fit_transform(data.iloc[:,[1,2,3]].values)\n",
    "model_3_3 = auto_arima(data_sc[:,0],\n",
    "                       # gdp as endogenous\n",
    "                 exogenous= data_sc[:,-2:], # rest as exogenous\n",
    "                 start_p=0, start_q=0, \n",
    "                 max_p=5, max_q=5, \n",
    "                 max_d=2,\n",
    "                 m=12, D=1, max_P=3, max_Q=3,\n",
    "                 trace=True,\n",
    "                 error_action='ignore', \n",
    "                 suppress_warnings=True,information_criterion='oob', n_jobs = -1)\n",
    "print(model_3_3.summary())"
   ]
  },
  {
   "cell_type": "markdown",
   "id": "738b2c03",
   "metadata": {
    "ExecuteTime": {
     "end_time": "2021-12-06T19:24:24.706895Z",
     "start_time": "2021-12-06T19:24:24.703946Z"
    }
   },
   "source": [
    "#### Candidate Model 3: ARIMA(1,0,0)(0,1,2)[12]"
   ]
  },
  {
   "cell_type": "code",
   "execution_count": 39,
   "id": "a7411a6b",
   "metadata": {
    "ExecuteTime": {
     "end_time": "2021-12-08T03:51:16.167692Z",
     "start_time": "2021-12-08T03:49:57.456261Z"
    }
   },
   "outputs": [
    {
     "name": "stderr",
     "output_type": "stream",
     "text": [
      "100%|██████████| 32/32 [00:12<00:00,  2.62it/s]\n",
      "100%|██████████| 32/32 [00:05<00:00,  5.94it/s]\n",
      "100%|██████████| 32/32 [00:43<00:00,  1.36s/it]\n",
      "100%|██████████| 32/32 [00:17<00:00,  1.82it/s]\n"
     ]
    }
   ],
   "source": [
    "rmse1, mape1 = evaluate_sarima_exog_model_scaled(data.iloc[:,[1,3]],-1, (2,0,0), (0,1,1,12), 0.67)\n",
    "rmse2, mape2 = evaluate_sarima_exog_model_scaled(data.iloc[:,[1,2]],-1, (1,2,1), (1,0,0,12), 0.67)\n",
    "rmse3, mape3 = evaluate_sarima_exog_model_scaled(data.iloc[:,[1,2,3]],-2, (1,0,0), (0,1,2,12), 0.67)\n",
    "rmse4, mape4 = evaluate_sarima_exog_model_scaled(data.iloc[:,[1,2,3]],-2, (0,2,1), (1,1,1,12), 0.67)"
   ]
  },
  {
   "cell_type": "code",
   "execution_count": 40,
   "id": "7ea8a6a2",
   "metadata": {
    "ExecuteTime": {
     "end_time": "2021-12-08T03:51:16.173631Z",
     "start_time": "2021-12-08T03:51:16.168719Z"
    }
   },
   "outputs": [
    {
     "data": {
      "text/html": [
       "<div>\n",
       "<style scoped>\n",
       "    .dataframe tbody tr th:only-of-type {\n",
       "        vertical-align: middle;\n",
       "    }\n",
       "\n",
       "    .dataframe tbody tr th {\n",
       "        vertical-align: top;\n",
       "    }\n",
       "\n",
       "    .dataframe thead th {\n",
       "        text-align: right;\n",
       "    }\n",
       "</style>\n",
       "<table border=\"1\" class=\"dataframe\">\n",
       "  <thead>\n",
       "    <tr style=\"text-align: right;\">\n",
       "      <th></th>\n",
       "      <th>rmse</th>\n",
       "      <th>mape</th>\n",
       "    </tr>\n",
       "  </thead>\n",
       "  <tbody>\n",
       "    <tr>\n",
       "      <th>cand1</th>\n",
       "      <td>8926.671155</td>\n",
       "      <td>0.016712</td>\n",
       "    </tr>\n",
       "    <tr>\n",
       "      <th>cand2</th>\n",
       "      <td>9274.272859</td>\n",
       "      <td>0.016436</td>\n",
       "    </tr>\n",
       "    <tr>\n",
       "      <th>cand3</th>\n",
       "      <td>9786.038876</td>\n",
       "      <td>0.017819</td>\n",
       "    </tr>\n",
       "    <tr>\n",
       "      <th>no_seasonality_cand</th>\n",
       "      <td>11209.957639</td>\n",
       "      <td>0.020857</td>\n",
       "    </tr>\n",
       "  </tbody>\n",
       "</table>\n",
       "</div>"
      ],
      "text/plain": [
       "                             rmse      mape\n",
       "cand1                 8926.671155  0.016712\n",
       "cand2                 9274.272859  0.016436\n",
       "cand3                 9786.038876  0.017819\n",
       "no_seasonality_cand  11209.957639  0.020857"
      ]
     },
     "execution_count": 40,
     "metadata": {},
     "output_type": "execute_result"
    }
   ],
   "source": [
    "Case_3_results = pd.DataFrame([[rmse1,mape1],[rmse2, mape2],[rmse3 , mape3],[rmse4 , mape4]], columns=['rmse','mape'],index=['cand1','cand2', 'cand3', 'no_seasonality_cand'])\n",
    "Case_3_results"
   ]
  },
  {
   "cell_type": "markdown",
   "id": "a687d9ca",
   "metadata": {
    "ExecuteTime": {
     "end_time": "2021-12-06T19:48:37.000569Z",
     "start_time": "2021-12-06T19:48:36.994707Z"
    }
   },
   "source": [
    "Tried BIC as information criterion in auto_arima, getting same results for best models"
   ]
  },
  {
   "cell_type": "markdown",
   "id": "faf3d2ac",
   "metadata": {
    "ExecuteTime": {
     "end_time": "2021-12-06T20:24:22.414318Z",
     "start_time": "2021-12-06T20:24:22.411378Z"
    }
   },
   "source": [
    "### Candidate 3: all three Exogenous var cases using BIC sarima"
   ]
  },
  {
   "cell_type": "code",
   "execution_count": 41,
   "id": "d6830b84",
   "metadata": {
    "ExecuteTime": {
     "end_time": "2021-12-08T03:51:16.179386Z",
     "start_time": "2021-12-08T03:51:16.174750Z"
    }
   },
   "outputs": [],
   "source": [
    "def bic_sarima_exog(data, exog, p_values,d_values,q_values,P_values,Q_values,m,D=1):\n",
    "    best_score, best_order, best_seasonal_order = float(\"inf\"), None, None\n",
    "    for p in tqdm(p_values):\n",
    "        for d in d_values:\n",
    "            for q in q_values:\n",
    "                    for P in P_values:\n",
    "                            for Q in Q_values:\n",
    "                                order=(p,d,q)\n",
    "                                seasonal_order=(P,D,Q,m)\n",
    "                                try:\n",
    "                                    res = sm.tsa.statespace.SARIMAX(data,exog = exog,order=order,seasonal_order=seasonal_order,enforce_stationarity=False,enforce_invertibility=False).fit()\n",
    "                                    bic = res.bic\n",
    "                                    if bic < best_score:\n",
    "                                        best_score, best_order, best_seasonal_order=bic, order,seasonal_order\n",
    "                                except Exception as e:\n",
    "                                    print(e)\n",
    "                                    continue\n",
    "    print((best_score, best_order, best_seasonal_order))"
   ]
  },
  {
   "cell_type": "code",
   "execution_count": 42,
   "id": "55b96169",
   "metadata": {
    "ExecuteTime": {
     "end_time": "2021-12-08T03:53:55.462180Z",
     "start_time": "2021-12-08T03:51:16.181260Z"
    }
   },
   "outputs": [
    {
     "name": "stderr",
     "output_type": "stream",
     "text": [
      "100%|██████████| 3/3 [02:39<00:00, 53.09s/it]"
     ]
    },
    {
     "name": "stdout",
     "output_type": "stream",
     "text": [
      "(-199.64914624099015, (1, 1, 2), (0, 1, 0, 12))\n"
     ]
    },
    {
     "name": "stderr",
     "output_type": "stream",
     "text": [
      "\n"
     ]
    }
   ],
   "source": [
    "sc = MinMaxScaler(feature_range = (0,1))\n",
    "data_sc = sc.fit_transform(data.iloc[:,[1,2,3]].values)\n",
    "\n",
    "bic_sarima_exog(data_sc[:,0],data_sc[:,-2:], p_values= range(3), d_values = range(2)\n",
    "           ,q_values= range(3),P_values=[0,1,2],Q_values=[0,1,2], m=12, D=1)"
   ]
  },
  {
   "cell_type": "code",
   "execution_count": 43,
   "id": "391283b3",
   "metadata": {
    "ExecuteTime": {
     "end_time": "2021-12-08T03:56:13.930080Z",
     "start_time": "2021-12-08T03:53:55.463775Z"
    }
   },
   "outputs": [
    {
     "name": "stderr",
     "output_type": "stream",
     "text": [
      "100%|██████████| 3/3 [02:18<00:00, 46.15s/it]"
     ]
    },
    {
     "name": "stdout",
     "output_type": "stream",
     "text": [
      "(-200.38662397449795, (1, 1, 2), (0, 1, 0, 12))\n"
     ]
    },
    {
     "name": "stderr",
     "output_type": "stream",
     "text": [
      "\n"
     ]
    }
   ],
   "source": [
    "sc = MinMaxScaler(feature_range = (0,1))\n",
    "data_sc = sc.fit_transform(data.iloc[:,[1,2]].values)\n",
    "\n",
    "bic_sarima_exog(data_sc[:,0],data_sc[:,-1:], p_values= range(3), d_values = range(2)\n",
    "           ,q_values= range(3),P_values=[0,1,2],Q_values=[0,1,2], m=12, D=1)"
   ]
  },
  {
   "cell_type": "code",
   "execution_count": 44,
   "id": "11d96fb9",
   "metadata": {
    "ExecuteTime": {
     "end_time": "2021-12-08T03:58:39.591834Z",
     "start_time": "2021-12-08T03:56:13.931504Z"
    }
   },
   "outputs": [
    {
     "name": "stderr",
     "output_type": "stream",
     "text": [
      "100%|██████████| 3/3 [02:25<00:00, 48.55s/it]"
     ]
    },
    {
     "name": "stdout",
     "output_type": "stream",
     "text": [
      "(-200.81669266096318, (1, 1, 2), (0, 1, 0, 12))\n"
     ]
    },
    {
     "name": "stderr",
     "output_type": "stream",
     "text": [
      "\n"
     ]
    }
   ],
   "source": [
    "sc = MinMaxScaler(feature_range = (0,1))\n",
    "data_sc = sc.fit_transform(data.iloc[:,[1,3]].values)\n",
    "\n",
    "bic_sarima_exog(data_sc[:,0],data_sc[:,-1:], p_values= range(3), d_values = range(2)\n",
    "           ,q_values= range(3),P_values=[0,1,2],Q_values=[0,1,2], m=12, D=1)"
   ]
  },
  {
   "cell_type": "code",
   "execution_count": 45,
   "id": "38634915",
   "metadata": {
    "ExecuteTime": {
     "end_time": "2021-12-08T03:59:00.049548Z",
     "start_time": "2021-12-08T03:58:39.593361Z"
    }
   },
   "outputs": [
    {
     "name": "stderr",
     "output_type": "stream",
     "text": [
      "100%|██████████| 32/32 [00:06<00:00,  4.88it/s]\n",
      "100%|██████████| 32/32 [00:06<00:00,  5.28it/s]\n",
      "100%|██████████| 32/32 [00:07<00:00,  4.09it/s]\n"
     ]
    }
   ],
   "source": [
    "rmse6, mape6 = evaluate_sarima_exog_model_scaled(data.iloc[:,[1,3]],-1, (1,1,2), (0,1,0,12), 0.67)\n",
    "rmse7, mape7 = evaluate_sarima_exog_model_scaled(data.iloc[:,[1,2]],-1, (1,1,2), (0,1,0,12), 0.67)\n",
    "rmse8, mape8 = evaluate_sarima_exog_model_scaled(data.iloc[:,[1,2,3]],-2, (1,1,2), (0,1,0,12), 0.67)"
   ]
  },
  {
   "cell_type": "markdown",
   "id": "a2dc056a",
   "metadata": {
    "ExecuteTime": {
     "end_time": "2021-12-06T20:15:13.730659Z",
     "start_time": "2021-12-06T20:15:13.727470Z"
    }
   },
   "source": [
    "#### Candidate Model 4: ARIMA(1,1,2)(0,1,0)[12]"
   ]
  },
  {
   "cell_type": "code",
   "execution_count": 46,
   "id": "9dc552e7",
   "metadata": {
    "ExecuteTime": {
     "end_time": "2021-12-08T03:59:00.056187Z",
     "start_time": "2021-12-08T03:59:00.050844Z"
    }
   },
   "outputs": [
    {
     "data": {
      "text/html": [
       "<div>\n",
       "<style scoped>\n",
       "    .dataframe tbody tr th:only-of-type {\n",
       "        vertical-align: middle;\n",
       "    }\n",
       "\n",
       "    .dataframe tbody tr th {\n",
       "        vertical-align: top;\n",
       "    }\n",
       "\n",
       "    .dataframe thead th {\n",
       "        text-align: right;\n",
       "    }\n",
       "</style>\n",
       "<table border=\"1\" class=\"dataframe\">\n",
       "  <thead>\n",
       "    <tr style=\"text-align: right;\">\n",
       "      <th></th>\n",
       "      <th>rmse</th>\n",
       "      <th>mape</th>\n",
       "    </tr>\n",
       "  </thead>\n",
       "  <tbody>\n",
       "    <tr>\n",
       "      <th>cand1_bic</th>\n",
       "      <td>10782.965502</td>\n",
       "      <td>0.018525</td>\n",
       "    </tr>\n",
       "    <tr>\n",
       "      <th>cand2_bic</th>\n",
       "      <td>11072.701641</td>\n",
       "      <td>0.019188</td>\n",
       "    </tr>\n",
       "    <tr>\n",
       "      <th>cand3_bic</th>\n",
       "      <td>10667.319981</td>\n",
       "      <td>0.017806</td>\n",
       "    </tr>\n",
       "  </tbody>\n",
       "</table>\n",
       "</div>"
      ],
      "text/plain": [
       "                   rmse      mape\n",
       "cand1_bic  10782.965502  0.018525\n",
       "cand2_bic  11072.701641  0.019188\n",
       "cand3_bic  10667.319981  0.017806"
      ]
     },
     "execution_count": 46,
     "metadata": {},
     "output_type": "execute_result"
    }
   ],
   "source": [
    "Case_3_results_bic = pd.DataFrame([[rmse6,mape6],[rmse7, mape7],[rmse8 , mape8]], \n",
    "                                  columns=['rmse','mape'],\n",
    "                                  index=['cand1_bic','cand2_bic', 'cand3_bic'])\n",
    "Case_3_results_bic"
   ]
  },
  {
   "cell_type": "markdown",
   "id": "1d4c64f5",
   "metadata": {
    "ExecuteTime": {
     "end_time": "2021-12-06T20:25:58.720400Z",
     "start_time": "2021-12-06T20:25:58.713537Z"
    }
   },
   "source": [
    "### Best Model = \n",
    "### SARIMAX cand\t(2,0,0), (0,1,1,12) 8927.39, Exogenous: UnEmployment\n"
   ]
  },
  {
   "cell_type": "markdown",
   "id": "20c3519d",
   "metadata": {
    "ExecuteTime": {
     "end_time": "2021-12-06T22:23:15.160385Z",
     "start_time": "2021-12-06T22:23:15.153701Z"
    }
   },
   "source": [
    "## --------------------------------------------------------------------------------------------------------------"
   ]
  },
  {
   "cell_type": "markdown",
   "id": "0fd673eb",
   "metadata": {
    "ExecuteTime": {
     "end_time": "2021-12-06T20:26:41.492810Z",
     "start_time": "2021-12-06T20:26:41.487740Z"
    }
   },
   "source": [
    "# Predictions"
   ]
  },
  {
   "cell_type": "code",
   "execution_count": 47,
   "id": "52596a3a",
   "metadata": {
    "ExecuteTime": {
     "end_time": "2021-12-08T03:59:00.062585Z",
     "start_time": "2021-12-08T03:59:00.057437Z"
    }
   },
   "outputs": [],
   "source": [
    "data_test = pd.read_csv('test.csv')"
   ]
  },
  {
   "cell_type": "code",
   "execution_count": 48,
   "id": "5a70d20a",
   "metadata": {
    "ExecuteTime": {
     "end_time": "2021-12-08T03:59:00.070795Z",
     "start_time": "2021-12-08T03:59:00.064831Z"
    }
   },
   "outputs": [],
   "source": [
    "data_test = pd.read_csv('test.csv')\n",
    "data_test['MedianMortageRate'] = data_raw['MedianMortageRate'][95:].values\n",
    "data_test['UnemploymentRate'] = data_raw['UnemploymentRate'][95:].values\n",
    "data_test.columns = ['Date', 'MedianSoldPrice', 'MedianMortageRate',\n",
    "       'UnemploymentRate']"
   ]
  },
  {
   "cell_type": "code",
   "execution_count": 49,
   "id": "fb6cf1b3",
   "metadata": {
    "ExecuteTime": {
     "end_time": "2021-12-08T03:59:00.076126Z",
     "start_time": "2021-12-08T03:59:00.072861Z"
    }
   },
   "outputs": [],
   "source": [
    "data_test['Date'] =  pd.to_datetime(data_test['Date'])"
   ]
  },
  {
   "cell_type": "code",
   "execution_count": 50,
   "id": "dac91733",
   "metadata": {
    "ExecuteTime": {
     "end_time": "2021-12-08T03:59:00.085027Z",
     "start_time": "2021-12-08T03:59:00.077572Z"
    },
    "scrolled": true
   },
   "outputs": [
    {
     "data": {
      "text/html": [
       "<div>\n",
       "<style scoped>\n",
       "    .dataframe tbody tr th:only-of-type {\n",
       "        vertical-align: middle;\n",
       "    }\n",
       "\n",
       "    .dataframe tbody tr th {\n",
       "        vertical-align: top;\n",
       "    }\n",
       "\n",
       "    .dataframe thead th {\n",
       "        text-align: right;\n",
       "    }\n",
       "</style>\n",
       "<table border=\"1\" class=\"dataframe\">\n",
       "  <thead>\n",
       "    <tr style=\"text-align: right;\">\n",
       "      <th></th>\n",
       "      <th>Date</th>\n",
       "      <th>MedianSoldPrice</th>\n",
       "      <th>MedianMortageRate</th>\n",
       "      <th>UnemploymentRate</th>\n",
       "    </tr>\n",
       "  </thead>\n",
       "  <tbody>\n",
       "    <tr>\n",
       "      <th>0</th>\n",
       "      <td>2016-01-31</td>\n",
       "      <td>476250</td>\n",
       "      <td>3.91</td>\n",
       "      <td>5.0</td>\n",
       "    </tr>\n",
       "    <tr>\n",
       "      <th>1</th>\n",
       "      <td>2016-02-29</td>\n",
       "      <td>466000</td>\n",
       "      <td>3.96</td>\n",
       "      <td>4.9</td>\n",
       "    </tr>\n",
       "    <tr>\n",
       "      <th>2</th>\n",
       "      <td>2016-03-31</td>\n",
       "      <td>485000</td>\n",
       "      <td>3.60</td>\n",
       "      <td>5.0</td>\n",
       "    </tr>\n",
       "    <tr>\n",
       "      <th>3</th>\n",
       "      <td>2016-04-30</td>\n",
       "      <td>501000</td>\n",
       "      <td>3.60</td>\n",
       "      <td>5.0</td>\n",
       "    </tr>\n",
       "    <tr>\n",
       "      <th>4</th>\n",
       "      <td>2016-05-31</td>\n",
       "      <td>501000</td>\n",
       "      <td>3.59</td>\n",
       "      <td>4.8</td>\n",
       "    </tr>\n",
       "    <tr>\n",
       "      <th>5</th>\n",
       "      <td>2016-06-30</td>\n",
       "      <td>505000</td>\n",
       "      <td>3.59</td>\n",
       "      <td>4.8</td>\n",
       "    </tr>\n",
       "    <tr>\n",
       "      <th>6</th>\n",
       "      <td>2016-07-31</td>\n",
       "      <td>507000</td>\n",
       "      <td>3.46</td>\n",
       "      <td>4.9</td>\n",
       "    </tr>\n",
       "    <tr>\n",
       "      <th>7</th>\n",
       "      <td>2016-08-31</td>\n",
       "      <td>510000</td>\n",
       "      <td>3.46</td>\n",
       "      <td>4.8</td>\n",
       "    </tr>\n",
       "    <tr>\n",
       "      <th>8</th>\n",
       "      <td>2016-09-30</td>\n",
       "      <td>510000</td>\n",
       "      <td>3.42</td>\n",
       "      <td>5.0</td>\n",
       "    </tr>\n",
       "    <tr>\n",
       "      <th>9</th>\n",
       "      <td>2016-10-31</td>\n",
       "      <td>523000</td>\n",
       "      <td>3.36</td>\n",
       "      <td>5.0</td>\n",
       "    </tr>\n",
       "    <tr>\n",
       "      <th>10</th>\n",
       "      <td>2016-11-30</td>\n",
       "      <td>506000</td>\n",
       "      <td>3.47</td>\n",
       "      <td>4.8</td>\n",
       "    </tr>\n",
       "    <tr>\n",
       "      <th>11</th>\n",
       "      <td>2016-12-31</td>\n",
       "      <td>510000</td>\n",
       "      <td>4.07</td>\n",
       "      <td>4.7</td>\n",
       "    </tr>\n",
       "  </tbody>\n",
       "</table>\n",
       "</div>"
      ],
      "text/plain": [
       "         Date  MedianSoldPrice  MedianMortageRate  UnemploymentRate\n",
       "0  2016-01-31           476250               3.91               5.0\n",
       "1  2016-02-29           466000               3.96               4.9\n",
       "2  2016-03-31           485000               3.60               5.0\n",
       "3  2016-04-30           501000               3.60               5.0\n",
       "4  2016-05-31           501000               3.59               4.8\n",
       "5  2016-06-30           505000               3.59               4.8\n",
       "6  2016-07-31           507000               3.46               4.9\n",
       "7  2016-08-31           510000               3.46               4.8\n",
       "8  2016-09-30           510000               3.42               5.0\n",
       "9  2016-10-31           523000               3.36               5.0\n",
       "10 2016-11-30           506000               3.47               4.8\n",
       "11 2016-12-31           510000               4.07               4.7"
      ]
     },
     "execution_count": 50,
     "metadata": {},
     "output_type": "execute_result"
    }
   ],
   "source": [
    "data_test"
   ]
  },
  {
   "cell_type": "markdown",
   "id": "aa3398b4",
   "metadata": {
    "ExecuteTime": {
     "end_time": "2021-12-06T20:31:03.403895Z",
     "start_time": "2021-12-06T20:31:03.399396Z"
    }
   },
   "source": [
    "### SARIMAX"
   ]
  },
  {
   "cell_type": "code",
   "execution_count": 51,
   "id": "1c4d08d3",
   "metadata": {
    "ExecuteTime": {
     "end_time": "2021-12-08T03:59:00.092154Z",
     "start_time": "2021-12-08T03:59:00.086506Z"
    }
   },
   "outputs": [],
   "source": [
    "def Sarimax_pred(data, ind, data_test, ex, trend_order, seasonal_order):\n",
    "    sc = MinMaxScaler(feature_range = (0,1))\n",
    "    data_sc = sc.fit_transform(data.iloc[:,ind].values)\n",
    "    test_sc = sc.transform(data_test.iloc[:,ind].values)\n",
    "    \n",
    "    model = sm.tsa.statespace.SARIMAX(data_sc[:,0], exog = data_sc[:, ex:], \n",
    "                                          order=trend_order,seasonal_order=seasonal_order)\n",
    "    \n",
    "    model_fit = model.fit()\n",
    "    yhat = model_fit.forecast(test_sc.shape[0],exog = test_sc[:,ex:])\n",
    "    y_pred_ = np.repeat(yhat.reshape(-1,1), 3 if ex == -2 else 2, axis = 1)\n",
    "    y_pred_inv = sc.inverse_transform(y_pred_)[:,0]\n",
    "    print(y_pred_inv)\n",
    "\n",
    "    y_pred_series = pd.Series(y_pred_inv,index=data_test.index)\n",
    "    plt.figure(figsize=(30, 10))\n",
    "    print(data_test.MedianSoldPrice)\n",
    "\n",
    "    plt.plot(data_test.MedianSoldPrice, label='actual')\n",
    "    plt.plot(y_pred_series, label='SARIMAX forecast')\n",
    "    plt.legend(loc='upper left', fontsize=20)\n",
    "    plt.title('Forecast vs Actual', fontsize = 25, y = 0.9)\n",
    "    plt.show()\n",
    "    \n",
    "    rmse_f = np.sqrt(skmetrics.mean_squared_error(data_test.MedianSoldPrice, y_pred_series))\n",
    "    mape_f = mean_absolute_percentage_error(data_test.MedianSoldPrice, y_pred_series)\n",
    "    return y_pred_series,rmse_f, mape_f\n",
    "    \n",
    "    "
   ]
  },
  {
   "cell_type": "code",
   "execution_count": 52,
   "id": "156db4bc",
   "metadata": {
    "ExecuteTime": {
     "end_time": "2021-12-08T03:59:00.755017Z",
     "start_time": "2021-12-08T03:59:00.093615Z"
    }
   },
   "outputs": [
    {
     "name": "stdout",
     "output_type": "stream",
     "text": [
      "[481064.50351577 480560.78276618 497542.35059645 502661.31190804\n",
      " 508523.64090192 519169.40120235 516371.34042941 510063.90674414\n",
      " 508081.31499908 506422.93346952 513073.77518195 515049.84303582]\n",
      "0     476250\n",
      "1     466000\n",
      "2     485000\n",
      "3     501000\n",
      "4     501000\n",
      "5     505000\n",
      "6     507000\n",
      "7     510000\n",
      "8     510000\n",
      "9     523000\n",
      "10    506000\n",
      "11    510000\n",
      "Name: MedianSoldPrice, dtype: int64\n"
     ]
    },
    {
     "data": {
      "image/png": "[encoded data removed]",
      "text/plain": [
       "<Figure size 2160x720 with 1 Axes>"
      ]
     },
     "metadata": {
      "needs_background": "light"
     },
     "output_type": "display_data"
    },
    {
     "data": {
      "text/plain": [
       "(9550.25854744779, 0.0159630319551259)"
      ]
     },
     "execution_count": 52,
     "metadata": {},
     "output_type": "execute_result"
    }
   ],
   "source": [
    "preds,rmse_test1, mape_test1 = Sarimax_pred(data, [1,3], data_test, -1, (2,0,0), (0,1,1,12))\n",
    "rmse_test1, mape_test1"
   ]
  },
  {
   "cell_type": "code",
   "execution_count": 53,
   "id": "9e307e24",
   "metadata": {
    "ExecuteTime": {
     "end_time": "2021-12-08T03:59:00.767646Z",
     "start_time": "2021-12-08T03:59:00.764672Z"
    }
   },
   "outputs": [],
   "source": [
    "data=data.set_index('Date')"
   ]
  },
  {
   "cell_type": "code",
   "execution_count": 54,
   "id": "f85ce1d4",
   "metadata": {
    "ExecuteTime": {
     "end_time": "2021-12-08T03:59:00.774016Z",
     "start_time": "2021-12-08T03:59:00.770370Z"
    }
   },
   "outputs": [],
   "source": [
    "data_test=data_test.set_index('Date')"
   ]
  },
  {
   "cell_type": "code",
   "execution_count": 55,
   "id": "3ae8aa92",
   "metadata": {
    "ExecuteTime": {
     "end_time": "2021-12-08T03:59:00.780026Z",
     "start_time": "2021-12-08T03:59:00.775616Z"
    }
   },
   "outputs": [
    {
     "data": {
      "text/plain": [
       "Date\n",
       "2016-01-31    481064.503516\n",
       "2016-02-29    480560.782766\n",
       "2016-03-31    497542.350596\n",
       "2016-04-30    502661.311908\n",
       "2016-05-31    508523.640902\n",
       "2016-06-30    519169.401202\n",
       "2016-07-31    516371.340429\n",
       "2016-08-31    510063.906744\n",
       "2016-09-30    508081.314999\n",
       "2016-10-31    506422.933470\n",
       "2016-11-30    513073.775182\n",
       "2016-12-31    515049.843036\n",
       "dtype: float64"
      ]
     },
     "execution_count": 55,
     "metadata": {},
     "output_type": "execute_result"
    }
   ],
   "source": [
    "pred1=pd.Series(preds)\n",
    "pred1.index = data_test.index\n",
    "pred1"
   ]
  },
  {
   "cell_type": "code",
   "execution_count": 65,
   "id": "8de32d54",
   "metadata": {
    "ExecuteTime": {
     "end_time": "2021-12-08T04:26:38.487251Z",
     "start_time": "2021-12-08T04:26:38.309130Z"
    }
   },
   "outputs": [
    {
     "data": {
      "image/png": "[encoded data removed]",
      "text/plain": [
       "<Figure size 2160x720 with 1 Axes>"
      ]
     },
     "metadata": {
      "needs_background": "light"
     },
     "output_type": "display_data"
    }
   ],
   "source": [
    "fig = plt.figure(figsize=(30, 10))\n",
    "plt.plot(pd.concat([data.MedianSoldPrice,data_test.MedianSoldPrice]), label='history')\n",
    "plt.plot(pred1, label='SARIMAX forcast prediction')\n",
    "plt.plot(data_test.MedianSoldPrice, label='out-of-sample actual')\n",
    "plt.legend(loc='upper left', fontsize=12)\n",
    "plt.show()"
   ]
  },
  {
   "cell_type": "code",
   "execution_count": null,
   "id": "4a024fd1",
   "metadata": {},
   "outputs": [],
   "source": []
  }
 ],
 "metadata": {
  "kernelspec": {
   "display_name": "Python 3",
   "language": "python",
   "name": "python3"
  },
  "language_info": {
   "codemirror_mode": {
    "name": "ipython",
    "version": 3
   },
   "file_extension": ".py",
   "mimetype": "text/x-python",
   "name": "python",
   "nbconvert_exporter": "python",
   "pygments_lexer": "ipython3",
   "version": "3.8.8"
  }
 },
 "nbformat": 4,
 "nbformat_minor": 5
}
